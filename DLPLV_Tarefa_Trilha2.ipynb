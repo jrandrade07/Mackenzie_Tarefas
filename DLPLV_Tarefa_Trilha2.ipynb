{
  "nbformat": 4,
  "nbformat_minor": 0,
  "metadata": {
    "colab": {
      "name": "DL_Trilha2_Ferramentas.ipynb",
      "provenance": [],
      "collapsed_sections": [
        "BKpVuQpatfOI",
        "PfOciqM_thZ1",
        "JrAUMu8Au6EN",
        "LaEE5llC4nKO",
        "GbWOiO2I5Fx3"
      ],
      "include_colab_link": true
    },
    "kernelspec": {
      "name": "python3",
      "display_name": "Python 3"
    }
  },
  "cells": [
    {
      "cell_type": "markdown",
      "metadata": {
        "id": "view-in-github",
        "colab_type": "text"
      },
      "source": [
        "<a href=\"https://colab.research.google.com/github/jrandrade07/Mackenzie_Tarefas/blob/main/DLPLV_Tarefa_Trilha2.ipynb\" target=\"_parent\"><img src=\"https://colab.research.google.com/assets/colab-badge.svg\" alt=\"Open In Colab\"/></a>"
      ]
    },
    {
      "cell_type": "markdown",
      "source": [
        "#Importando as bibliotecas"
      ],
      "metadata": {
        "id": "KL_8ND0jlMDd"
      }
    },
    {
      "cell_type": "code",
      "metadata": {
        "id": "oi7czSpNM11B"
      },
      "source": [
        "import numpy as np\n",
        "import tensorflow as tf\n",
        "import pandas as pd\n",
        "from tensorflow import keras\n",
        "\n",
        "from keras.utils.vis_utils import plot_model\n",
        "\n",
        "from keras.models import Model\n",
        "from keras.layers import Input\n",
        "from keras.layers import Dense\n",
        "from keras.layers import Flatten"
      ],
      "execution_count": 1,
      "outputs": []
    },
    {
      "cell_type": "markdown",
      "source": [
        "#Carregando os dados"
      ],
      "metadata": {
        "id": "XrE1BsaTlWR-"
      }
    },
    {
      "cell_type": "code",
      "source": [
        "X = pd.read_csv(\"https://raw.githubusercontent.com/jrandrade07/DataSets/main/OSI_feats_e3.csv\")\n",
        "y = pd.read_csv(\"https://raw.githubusercontent.com/jrandrade07/DataSets/main/OSI_target_e2.csv\")"
      ],
      "metadata": {
        "id": "_tQBBc0ajth9"
      },
      "execution_count": 2,
      "outputs": []
    },
    {
      "cell_type": "code",
      "source": [
        "X.info()"
      ],
      "metadata": {
        "id": "EjylsiVm-Ujr",
        "outputId": "273bb94f-7cdd-4d07-b9c3-62baa601165b",
        "colab": {
          "base_uri": "https://localhost:8080/"
        }
      },
      "execution_count": 3,
      "outputs": [
        {
          "output_type": "stream",
          "name": "stdout",
          "text": [
            "<class 'pandas.core.frame.DataFrame'>\n",
            "RangeIndex: 12330 entries, 0 to 12329\n",
            "Data columns (total 68 columns):\n",
            " #   Column                         Non-Null Count  Dtype  \n",
            "---  ------                         --------------  -----  \n",
            " 0   Administrative                 12330 non-null  int64  \n",
            " 1   Administrative_Duration        12330 non-null  float64\n",
            " 2   Informational                  12330 non-null  int64  \n",
            " 3   Informational_Duration         12330 non-null  float64\n",
            " 4   ProductRelated                 12330 non-null  int64  \n",
            " 5   ProductRelated_Duration        12330 non-null  float64\n",
            " 6   BounceRates                    12330 non-null  float64\n",
            " 7   ExitRates                      12330 non-null  float64\n",
            " 8   PageValues                     12330 non-null  float64\n",
            " 9   SpecialDay                     12330 non-null  float64\n",
            " 10  is_weekend                     12330 non-null  int64  \n",
            " 11  VisitorType_New_Visitor        12330 non-null  int64  \n",
            " 12  VisitorType_Returning_Visitor  12330 non-null  int64  \n",
            " 13  Month_Aug                      12330 non-null  int64  \n",
            " 14  Month_Dec                      12330 non-null  int64  \n",
            " 15  Month_Jul                      12330 non-null  int64  \n",
            " 16  Month_June                     12330 non-null  int64  \n",
            " 17  Month_Mar                      12330 non-null  int64  \n",
            " 18  Month_May                      12330 non-null  int64  \n",
            " 19  Month_Nov                      12330 non-null  int64  \n",
            " 20  Month_Oct                      12330 non-null  int64  \n",
            " 21  Month_Sep                      12330 non-null  int64  \n",
            " 22  OperatingSystems_1             12330 non-null  int64  \n",
            " 23  OperatingSystems_2             12330 non-null  int64  \n",
            " 24  OperatingSystems_3             12330 non-null  int64  \n",
            " 25  OperatingSystems_4             12330 non-null  int64  \n",
            " 26  OperatingSystems_6             12330 non-null  int64  \n",
            " 27  OperatingSystems_7             12330 non-null  int64  \n",
            " 28  OperatingSystems_8             12330 non-null  int64  \n",
            " 29  Browser_1                      12330 non-null  int64  \n",
            " 30  Browser_2                      12330 non-null  int64  \n",
            " 31  Browser_3                      12330 non-null  int64  \n",
            " 32  Browser_4                      12330 non-null  int64  \n",
            " 33  Browser_5                      12330 non-null  int64  \n",
            " 34  Browser_6                      12330 non-null  int64  \n",
            " 35  Browser_7                      12330 non-null  int64  \n",
            " 36  Browser_8                      12330 non-null  int64  \n",
            " 37  Browser_10                     12330 non-null  int64  \n",
            " 38  Browser_11                     12330 non-null  int64  \n",
            " 39  Browser_12                     12330 non-null  int64  \n",
            " 40  Browser_13                     12330 non-null  int64  \n",
            " 41  TrafficType_1                  12330 non-null  int64  \n",
            " 42  TrafficType_2                  12330 non-null  int64  \n",
            " 43  TrafficType_3                  12330 non-null  int64  \n",
            " 44  TrafficType_4                  12330 non-null  int64  \n",
            " 45  TrafficType_5                  12330 non-null  int64  \n",
            " 46  TrafficType_6                  12330 non-null  int64  \n",
            " 47  TrafficType_7                  12330 non-null  int64  \n",
            " 48  TrafficType_8                  12330 non-null  int64  \n",
            " 49  TrafficType_9                  12330 non-null  int64  \n",
            " 50  TrafficType_10                 12330 non-null  int64  \n",
            " 51  TrafficType_11                 12330 non-null  int64  \n",
            " 52  TrafficType_12                 12330 non-null  int64  \n",
            " 53  TrafficType_13                 12330 non-null  int64  \n",
            " 54  TrafficType_14                 12330 non-null  int64  \n",
            " 55  TrafficType_15                 12330 non-null  int64  \n",
            " 56  TrafficType_16                 12330 non-null  int64  \n",
            " 57  TrafficType_18                 12330 non-null  int64  \n",
            " 58  TrafficType_19                 12330 non-null  int64  \n",
            " 59  TrafficType_20                 12330 non-null  int64  \n",
            " 60  Region_1                       12330 non-null  int64  \n",
            " 61  Region_2                       12330 non-null  int64  \n",
            " 62  Region_3                       12330 non-null  int64  \n",
            " 63  Region_4                       12330 non-null  int64  \n",
            " 64  Region_6                       12330 non-null  int64  \n",
            " 65  Region_7                       12330 non-null  int64  \n",
            " 66  Region_8                       12330 non-null  int64  \n",
            " 67  Region_9                       12330 non-null  int64  \n",
            "dtypes: float64(7), int64(61)\n",
            "memory usage: 6.4 MB\n"
          ]
        }
      ]
    },
    {
      "cell_type": "code",
      "source": [
        "y.info()"
      ],
      "metadata": {
        "id": "hkqZGKsK-q3w",
        "outputId": "5d58fc87-cbbe-415d-d182-265b26941f36",
        "colab": {
          "base_uri": "https://localhost:8080/"
        }
      },
      "execution_count": 4,
      "outputs": [
        {
          "output_type": "stream",
          "name": "stdout",
          "text": [
            "<class 'pandas.core.frame.DataFrame'>\n",
            "RangeIndex: 12330 entries, 0 to 12329\n",
            "Data columns (total 1 columns):\n",
            " #   Column   Non-Null Count  Dtype\n",
            "---  ------   --------------  -----\n",
            " 0   Revenue  12330 non-null  int64\n",
            "dtypes: int64(1)\n",
            "memory usage: 96.5 KB\n"
          ]
        }
      ]
    },
    {
      "cell_type": "code",
      "source": [
        "from sklearn.model_selection import train_test_split\n",
        "X_train, X_test, y_train, y_test = train_test_split(X, y, test_size=0.3, random_state=123)"
      ],
      "metadata": {
        "id": "70sgiHoWmfdS"
      },
      "execution_count": 5,
      "outputs": []
    },
    {
      "cell_type": "markdown",
      "metadata": {
        "id": "BKpVuQpatfOI"
      },
      "source": [
        "# Criando o Modelo Sequencial"
      ]
    },
    {
      "cell_type": "code",
      "metadata": {
        "id": "v23iXU25tsCL"
      },
      "source": [
        "from keras.models import Sequential"
      ],
      "execution_count": 6,
      "outputs": []
    },
    {
      "cell_type": "code",
      "metadata": {
        "id": "oBXFMQ7KthGG"
      },
      "source": [
        "model = Sequential()\n",
        "model.add(Dense(4, input_dim=1))\n",
        "model.add(Dense(1))"
      ],
      "execution_count": 7,
      "outputs": []
    },
    {
      "cell_type": "code",
      "metadata": {
        "id": "hBieenYm0DJW",
        "colab": {
          "base_uri": "https://localhost:8080/",
          "height": 272
        },
        "outputId": "a242c73f-7374-4954-a41c-777b21bbc913"
      },
      "source": [
        "plot_model(model)"
      ],
      "execution_count": 8,
      "outputs": [
        {
          "output_type": "execute_result",
          "data": {
            "text/plain": [
              "<IPython.core.display.Image object>"
            ],
            "image/png": "[encoded data removed]"
          },
          "metadata": {},
          "execution_count": 8
        }
      ]
    },
    {
      "cell_type": "markdown",
      "metadata": {
        "id": "96PAPXRz7Ux6"
      },
      "source": [
        "# Ajustando o Modelo"
      ]
    },
    {
      "cell_type": "code",
      "metadata": {
        "id": "hFLcMzMc7wVY"
      },
      "source": [
        "# 2. Definir o modelo\n",
        "model = Sequential()\n",
        "model.add(Dense(12, input_dim=X.shape[1], activation='relu'))\n",
        "model.add(Dense(8, activation='relu'))\n",
        "model.add(Dense(1, activation='sigmoid'))"
      ],
      "execution_count": 9,
      "outputs": []
    },
    {
      "cell_type": "code",
      "metadata": {
        "id": "R5ItSVz8jkVp",
        "colab": {
          "base_uri": "https://localhost:8080/"
        },
        "outputId": "83991eac-7eb0-4542-ea78-8f987b73116f"
      },
      "source": [
        "model.summary()"
      ],
      "execution_count": 10,
      "outputs": [
        {
          "output_type": "stream",
          "name": "stdout",
          "text": [
            "Model: \"sequential_1\"\n",
            "_________________________________________________________________\n",
            " Layer (type)                Output Shape              Param #   \n",
            "=================================================================\n",
            " dense_2 (Dense)             (None, 12)                828       \n",
            "                                                                 \n",
            " dense_3 (Dense)             (None, 8)                 104       \n",
            "                                                                 \n",
            " dense_4 (Dense)             (None, 1)                 9         \n",
            "                                                                 \n",
            "=================================================================\n",
            "Total params: 941\n",
            "Trainable params: 941\n",
            "Non-trainable params: 0\n",
            "_________________________________________________________________\n"
          ]
        }
      ]
    },
    {
      "cell_type": "markdown",
      "source": [
        "# Copilando o modelo"
      ],
      "metadata": {
        "id": "zAAUHC2HCkM6"
      }
    },
    {
      "cell_type": "code",
      "metadata": {
        "id": "3t2J3Mms7zp8"
      },
      "source": [
        "model.compile(loss='binary_crossentropy', optimizer='adam', metrics=['accuracy'])"
      ],
      "execution_count": 11,
      "outputs": []
    },
    {
      "cell_type": "markdown",
      "source": [
        "# Ajustando o modelo aos dados"
      ],
      "metadata": {
        "id": "EO0A7uLSCtvW"
      }
    },
    {
      "cell_type": "code",
      "metadata": {
        "id": "Al1wF4ye73xm",
        "colab": {
          "base_uri": "https://localhost:8080/"
        },
        "outputId": "8df889d8-be88-4065-f6f2-1673082e44fc"
      },
      "source": [
        "model.fit(X, y, epochs=50, batch_size=10)"
      ],
      "execution_count": 12,
      "outputs": [
        {
          "output_type": "stream",
          "name": "stdout",
          "text": [
            "Epoch 1/50\n",
            "1233/1233 [==============================] - 3s 2ms/step - loss: 4.9621 - accuracy: 0.8112\n",
            "Epoch 2/50\n",
            "1233/1233 [==============================] - 3s 2ms/step - loss: 0.3919 - accuracy: 0.8729\n",
            "Epoch 3/50\n",
            "1233/1233 [==============================] - 3s 2ms/step - loss: 0.3480 - accuracy: 0.8779\n",
            "Epoch 4/50\n",
            "1233/1233 [==============================] - 3s 2ms/step - loss: 0.3297 - accuracy: 0.8771\n",
            "Epoch 5/50\n",
            "1233/1233 [==============================] - 4s 3ms/step - loss: 0.3364 - accuracy: 0.8773\n",
            "Epoch 6/50\n",
            "1233/1233 [==============================] - 3s 3ms/step - loss: 0.3179 - accuracy: 0.8761\n",
            "Epoch 7/50\n",
            "1233/1233 [==============================] - 1s 1ms/step - loss: 0.3164 - accuracy: 0.8782\n",
            "Epoch 8/50\n",
            "1233/1233 [==============================] - 1s 1ms/step - loss: 0.3072 - accuracy: 0.8796\n",
            "Epoch 9/50\n",
            "1233/1233 [==============================] - 1s 1ms/step - loss: 0.3055 - accuracy: 0.8787\n",
            "Epoch 10/50\n",
            "1233/1233 [==============================] - 1s 1ms/step - loss: 0.2956 - accuracy: 0.8822\n",
            "Epoch 11/50\n",
            "1233/1233 [==============================] - 1s 1ms/step - loss: 0.2930 - accuracy: 0.8821\n",
            "Epoch 12/50\n",
            "1233/1233 [==============================] - 1s 1ms/step - loss: 0.2918 - accuracy: 0.8806\n",
            "Epoch 13/50\n",
            "1233/1233 [==============================] - 1s 1ms/step - loss: 0.2936 - accuracy: 0.8788\n",
            "Epoch 14/50\n",
            "1233/1233 [==============================] - 1s 1ms/step - loss: 0.2891 - accuracy: 0.8791\n",
            "Epoch 15/50\n",
            "1233/1233 [==============================] - 1s 1ms/step - loss: 0.2796 - accuracy: 0.8825\n",
            "Epoch 16/50\n",
            "1233/1233 [==============================] - 1s 1ms/step - loss: 0.2800 - accuracy: 0.8828\n",
            "Epoch 17/50\n",
            "1233/1233 [==============================] - 1s 1ms/step - loss: 0.2820 - accuracy: 0.8821\n",
            "Epoch 18/50\n",
            "1233/1233 [==============================] - 1s 1ms/step - loss: 0.2725 - accuracy: 0.8840\n",
            "Epoch 19/50\n",
            "1233/1233 [==============================] - 1s 1ms/step - loss: 0.2750 - accuracy: 0.8839\n",
            "Epoch 20/50\n",
            "1233/1233 [==============================] - 1s 1ms/step - loss: 0.2695 - accuracy: 0.8859\n",
            "Epoch 21/50\n",
            "1233/1233 [==============================] - 1s 1ms/step - loss: 0.2686 - accuracy: 0.8857\n",
            "Epoch 22/50\n",
            "1233/1233 [==============================] - 1s 1ms/step - loss: 0.2665 - accuracy: 0.8861\n",
            "Epoch 23/50\n",
            "1233/1233 [==============================] - 1s 1ms/step - loss: 0.2671 - accuracy: 0.8886\n",
            "Epoch 24/50\n",
            "1233/1233 [==============================] - 1s 1ms/step - loss: 0.2632 - accuracy: 0.8860\n",
            "Epoch 25/50\n",
            "1233/1233 [==============================] - 1s 1ms/step - loss: 0.2640 - accuracy: 0.8869\n",
            "Epoch 26/50\n",
            "1233/1233 [==============================] - 1s 1ms/step - loss: 0.2570 - accuracy: 0.8903\n",
            "Epoch 27/50\n",
            "1233/1233 [==============================] - 1s 1ms/step - loss: 0.2560 - accuracy: 0.8901\n",
            "Epoch 28/50\n",
            "1233/1233 [==============================] - 1s 1ms/step - loss: 0.2624 - accuracy: 0.8884\n",
            "Epoch 29/50\n",
            "1233/1233 [==============================] - 1s 1ms/step - loss: 0.2568 - accuracy: 0.8912\n",
            "Epoch 30/50\n",
            "1233/1233 [==============================] - 1s 1ms/step - loss: 0.2514 - accuracy: 0.8884\n",
            "Epoch 31/50\n",
            "1233/1233 [==============================] - 1s 1ms/step - loss: 0.2501 - accuracy: 0.8903\n",
            "Epoch 32/50\n",
            "1233/1233 [==============================] - 1s 1ms/step - loss: 0.2547 - accuracy: 0.8898\n",
            "Epoch 33/50\n",
            "1233/1233 [==============================] - 1s 1ms/step - loss: 0.2496 - accuracy: 0.8894\n",
            "Epoch 34/50\n",
            "1233/1233 [==============================] - 1s 1ms/step - loss: 0.2500 - accuracy: 0.8926\n",
            "Epoch 35/50\n",
            "1233/1233 [==============================] - 1s 1ms/step - loss: 0.2486 - accuracy: 0.8929\n",
            "Epoch 36/50\n",
            "1233/1233 [==============================] - 1s 1ms/step - loss: 0.2452 - accuracy: 0.8921\n",
            "Epoch 37/50\n",
            "1233/1233 [==============================] - 1s 1ms/step - loss: 0.2474 - accuracy: 0.8921\n",
            "Epoch 38/50\n",
            "1233/1233 [==============================] - 1s 1ms/step - loss: 0.2459 - accuracy: 0.8929\n",
            "Epoch 39/50\n",
            "1233/1233 [==============================] - 1s 1ms/step - loss: 0.2453 - accuracy: 0.8944\n",
            "Epoch 40/50\n",
            "1233/1233 [==============================] - 1s 1ms/step - loss: 0.2582 - accuracy: 0.8895\n",
            "Epoch 41/50\n",
            "1233/1233 [==============================] - 1s 1ms/step - loss: 0.2436 - accuracy: 0.8933\n",
            "Epoch 42/50\n",
            "1233/1233 [==============================] - 1s 1ms/step - loss: 0.2484 - accuracy: 0.8944\n",
            "Epoch 43/50\n",
            "1233/1233 [==============================] - 1s 1ms/step - loss: 0.2426 - accuracy: 0.8925\n",
            "Epoch 44/50\n",
            "1233/1233 [==============================] - 1s 1ms/step - loss: 0.2521 - accuracy: 0.8942\n",
            "Epoch 45/50\n",
            "1233/1233 [==============================] - 1s 1ms/step - loss: 0.2414 - accuracy: 0.8934\n",
            "Epoch 46/50\n",
            "1233/1233 [==============================] - 1s 1ms/step - loss: 0.2422 - accuracy: 0.8940\n",
            "Epoch 47/50\n",
            "1233/1233 [==============================] - 1s 1ms/step - loss: 0.2428 - accuracy: 0.8944\n",
            "Epoch 48/50\n",
            "1233/1233 [==============================] - 1s 1ms/step - loss: 0.2468 - accuracy: 0.8951\n",
            "Epoch 49/50\n",
            "1233/1233 [==============================] - 1s 1ms/step - loss: 0.2429 - accuracy: 0.8925\n",
            "Epoch 50/50\n",
            "1233/1233 [==============================] - 1s 1ms/step - loss: 0.2370 - accuracy: 0.8949\n"
          ]
        },
        {
          "output_type": "execute_result",
          "data": {
            "text/plain": [
              "<keras.callbacks.History at 0x7ff520fc58d0>"
            ]
          },
          "metadata": {},
          "execution_count": 12
        }
      ]
    },
    {
      "cell_type": "markdown",
      "source": [
        "# Avaliando o modelo "
      ],
      "metadata": {
        "id": "xDBRZo14C3aM"
      }
    },
    {
      "cell_type": "code",
      "metadata": {
        "id": "MmmDKedr76vF",
        "colab": {
          "base_uri": "https://localhost:8080/"
        },
        "outputId": "76e9c393-0048-4428-ba1c-a1ddeccfea25"
      },
      "source": [
        "_, accuracy = model.evaluate(X, y)\n",
        "print('Acurácia: %.2f' % (accuracy*100))"
      ],
      "execution_count": 13,
      "outputs": [
        {
          "output_type": "stream",
          "name": "stdout",
          "text": [
            "386/386 [==============================] - 1s 982us/step - loss: 0.2396 - accuracy: 0.8966\n",
            "Acurácia: 89.66\n"
          ]
        }
      ]
    },
    {
      "cell_type": "markdown",
      "source": [
        "# Avaliando o loss no conjunto de teste"
      ],
      "metadata": {
        "id": "I7NT4kz9DBsU"
      }
    },
    {
      "cell_type": "code",
      "source": [
        "loss, accuracy = model.evaluate(X_test, y_test, batch_size=10)\n",
        "print('loss: %.2f' % (loss*100))"
      ],
      "metadata": {
        "id": "sOi5d9-oB3Ia",
        "outputId": "a8c03b97-b6b2-4b52-a31e-32ad9cb249d1",
        "colab": {
          "base_uri": "https://localhost:8080/"
        }
      },
      "execution_count": 14,
      "outputs": [
        {
          "output_type": "stream",
          "name": "stdout",
          "text": [
            "370/370 [==============================] - 1s 1ms/step - loss: 0.2499 - accuracy: 0.8889\n",
            "loss: 24.99\n"
          ]
        }
      ]
    }
  ]
}