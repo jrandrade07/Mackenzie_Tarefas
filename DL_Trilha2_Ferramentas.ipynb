{
  "nbformat": 4,
  "nbformat_minor": 0,
  "metadata": {
    "colab": {
      "name": "DL_Trilha2_Ferramentas.ipynb",
      "provenance": [],
      "collapsed_sections": [
        "BKpVuQpatfOI",
        "PfOciqM_thZ1",
        "JrAUMu8Au6EN",
        "LaEE5llC4nKO",
        "GbWOiO2I5Fx3"
      ]
    },
    "kernelspec": {
      "name": "python3",
      "display_name": "Python 3"
    }
  },
  "cells": [
    {
      "cell_type": "code",
      "metadata": {
        "id": "oi7czSpNM11B"
      },
      "source": [
        "import numpy as np\n",
        "import tensorflow as tf\n",
        "from tensorflow import keras"
      ],
      "execution_count": null,
      "outputs": []
    },
    {
      "cell_type": "code",
      "metadata": {
        "id": "SU4N5GZyvDMi"
      },
      "source": [
        "from keras.utils.vis_utils import plot_model"
      ],
      "execution_count": null,
      "outputs": []
    },
    {
      "cell_type": "code",
      "metadata": {
        "id": "y-sg3u8HjhEB"
      },
      "source": [
        "from keras.models import Model\n",
        "from keras.layers import Input\n",
        "from keras.layers import Dense\n",
        "from keras.layers import Flatten"
      ],
      "execution_count": null,
      "outputs": []
    },
    {
      "cell_type": "code",
      "metadata": {
        "id": "mVSSMRKpgUKV"
      },
      "source": [
        "print(tf.__version__)\n",
        "print(keras.__version__)"
      ],
      "execution_count": null,
      "outputs": []
    },
    {
      "cell_type": "markdown",
      "metadata": {
        "id": "BKpVuQpatfOI"
      },
      "source": [
        "# Modelo Sequencial"
      ]
    },
    {
      "cell_type": "code",
      "metadata": {
        "id": "v23iXU25tsCL"
      },
      "source": [
        "from keras.models import Sequential"
      ],
      "execution_count": null,
      "outputs": []
    },
    {
      "cell_type": "code",
      "metadata": {
        "id": "oBXFMQ7KthGG"
      },
      "source": [
        "model = Sequential()\n",
        "model.add(Dense(2, input_dim=1))\n",
        "model.add(Dense(1))"
      ],
      "execution_count": null,
      "outputs": []
    },
    {
      "cell_type": "markdown",
      "metadata": {
        "id": "PfOciqM_thZ1"
      },
      "source": [
        "# Modelo Funcional"
      ]
    },
    {
      "cell_type": "code",
      "metadata": {
        "id": "9ZzaNHWetk_8"
      },
      "source": [
        "# Define as entradas\n",
        "input = Input(shape=(2,))\n",
        "\n",
        "# Conecta as camadas\n",
        "hidden = Dense(2)(input)\n",
        "\n",
        "# Cria o modelo\n",
        "model = Model(inputs=input, outputs=hidden)"
      ],
      "execution_count": null,
      "outputs": []
    },
    {
      "cell_type": "markdown",
      "metadata": {
        "id": "JrAUMu8Au6EN"
      },
      "source": [
        "# Modelo Funcional: MLP"
      ]
    },
    {
      "cell_type": "code",
      "metadata": {
        "id": "vvwBGzI-u9pG"
      },
      "source": [
        "visible = Input(shape=(10,))\n",
        "hidden1 = Dense(10, activation='relu')(visible)\n",
        "hidden2 = Dense(20, activation='relu')(hidden1)\n",
        "hidden3 = Dense(10, activation='relu')(hidden2)\n",
        "output = Dense(1, activation='sigmoid')(hidden3)\n",
        "model = Model(inputs=visible, outputs=output)"
      ],
      "execution_count": null,
      "outputs": []
    },
    {
      "cell_type": "code",
      "metadata": {
        "id": "AImNZnbZyl7d"
      },
      "source": [
        "print(model.summary())"
      ],
      "execution_count": null,
      "outputs": []
    },
    {
      "cell_type": "code",
      "metadata": {
        "id": "hBieenYm0DJW"
      },
      "source": [
        "plot_model(model)"
      ],
      "execution_count": null,
      "outputs": []
    },
    {
      "cell_type": "markdown",
      "metadata": {
        "id": "96PAPXRz7Ux6"
      },
      "source": [
        "# Construindo um Modelo"
      ]
    },
    {
      "cell_type": "code",
      "metadata": {
        "id": "WnwzPi8g7gp-"
      },
      "source": [
        "import urllib"
      ],
      "execution_count": null,
      "outputs": []
    },
    {
      "cell_type": "code",
      "metadata": {
        "id": "HU-6CHFk9ONM"
      },
      "source": [
        "# 1. Carregar os dados\n",
        "url = \"https://raw.githubusercontent.com/jbrownlee/Datasets/master/pima-indians-diabetes.data.csv\"\n",
        "raw_data = urllib.request.urlopen(url)\n",
        "dataset = np.loadtxt(raw_data, delimiter=\",\")\n",
        "X = dataset[:,0:8]\n",
        "y = dataset[:,8]"
      ],
      "execution_count": null,
      "outputs": []
    },
    {
      "cell_type": "code",
      "metadata": {
        "id": "UVMoZy-v5UTV"
      },
      "source": [
        "X.shape"
      ],
      "execution_count": null,
      "outputs": []
    },
    {
      "cell_type": "code",
      "metadata": {
        "id": "hFLcMzMc7wVY"
      },
      "source": [
        "# 2. Definir o modelo\n",
        "model = Sequential()\n",
        "model.add(Dense(12, input_dim=8, activation='relu'))\n",
        "model.add(Dense(8, activation='relu'))\n",
        "model.add(Dense(1, activation='sigmoid'))"
      ],
      "execution_count": null,
      "outputs": []
    },
    {
      "cell_type": "code",
      "metadata": {
        "id": "R5ItSVz8jkVp"
      },
      "source": [
        "model.summary()"
      ],
      "execution_count": null,
      "outputs": []
    },
    {
      "cell_type": "code",
      "metadata": {
        "id": "3t2J3Mms7zp8"
      },
      "source": [
        "# 3. Compilar o modelo\n",
        "model.compile(loss='binary_crossentropy', optimizer='adam', metrics=['accuracy'])"
      ],
      "execution_count": null,
      "outputs": []
    },
    {
      "cell_type": "code",
      "metadata": {
        "id": "Al1wF4ye73xm"
      },
      "source": [
        "# 4. Ajustar o modelo aos dados\n",
        "model.fit(X, y, epochs=150, batch_size=10)"
      ],
      "execution_count": null,
      "outputs": []
    },
    {
      "cell_type": "code",
      "metadata": {
        "id": "MmmDKedr76vF"
      },
      "source": [
        "# 5. Avaliar o modelo\n",
        "_, accuracy = model.evaluate(X, y)\n",
        "print('Acurácia: %.2f' % (accuracy*100))"
      ],
      "execution_count": null,
      "outputs": []
    },
    {
      "cell_type": "code",
      "metadata": {
        "id": "GEFcSiM3qRtk"
      },
      "source": [
        ""
      ],
      "execution_count": null,
      "outputs": []
    },
    {
      "cell_type": "code",
      "metadata": {
        "id": "cgsKJE0T_M5W"
      },
      "source": [
        "# 6. Fazer predições\n",
        "pred = (model.predict(X) > 0.5).astype(\"int32\")"
      ],
      "execution_count": null,
      "outputs": []
    },
    {
      "cell_type": "code",
      "metadata": {
        "id": "P7EdRWz8_cV9"
      },
      "source": [
        "for i in range(10):\n",
        "  print('%s (real: %d | predito: %d)' % (X[i].tolist(), y[i], pred[i]))"
      ],
      "execution_count": null,
      "outputs": []
    },
    {
      "cell_type": "markdown",
      "metadata": {
        "id": "_tOqVKyIAes9"
      },
      "source": [
        "# Modelos Pré-treinados"
      ]
    },
    {
      "cell_type": "code",
      "metadata": {
        "id": "rQZXguZaD7RO"
      },
      "source": [
        "from PIL import Image\n",
        "from matplotlib.pyplot import imshow\n",
        "from tensorflow.keras.preprocessing import image\n",
        "from tensorflow.keras.applications.resnet50 import preprocess_input, decode_predictions\n",
        "from tensorflow.keras.applications.resnet50 import ResNet50"
      ],
      "execution_count": null,
      "outputs": []
    },
    {
      "cell_type": "code",
      "metadata": {
        "id": "DKpS_SDbD_IP"
      },
      "source": [
        "model = ResNet50(weights='imagenet')"
      ],
      "execution_count": null,
      "outputs": []
    },
    {
      "cell_type": "code",
      "metadata": {
        "id": "oe2A4lHqE8nQ"
      },
      "source": [
        "img_path = 'resnet50.jpg'\n",
        "img = Image.open(img_path)\n",
        "imshow(np.asarray(img))"
      ],
      "execution_count": null,
      "outputs": []
    },
    {
      "cell_type": "code",
      "metadata": {
        "id": "oqLl6t2aFg6m"
      },
      "source": [
        "img = image.load_img(img_path, target_size=(224, 224))\n",
        "x = image.img_to_array(img)\n",
        "x = np.expand_dims(x, axis=0)\n",
        "x = preprocess_input(x)\n",
        "preds = model.predict(x)\n",
        "print('Predito:', decode_predictions(preds, top=3)[0])"
      ],
      "execution_count": null,
      "outputs": []
    }
  ]
}