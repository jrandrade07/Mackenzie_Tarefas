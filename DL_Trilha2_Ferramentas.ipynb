{
  "nbformat": 4,
  "nbformat_minor": 0,
  "metadata": {
    "colab": {
      "name": "DL_Trilha2_Ferramentas.ipynb",
      "provenance": [],
      "collapsed_sections": [
        "BKpVuQpatfOI",
        "PfOciqM_thZ1",
        "JrAUMu8Au6EN",
        "LaEE5llC4nKO",
        "GbWOiO2I5Fx3"
      ]
    },
    "kernelspec": {
      "name": "python3",
      "display_name": "Python 3"
    }
  },
  "cells": [
    {
      "cell_type": "markdown",
      "source": [
        "#Importando as bibliotecas"
      ],
      "metadata": {
        "id": "KL_8ND0jlMDd"
      }
    },
    {
      "cell_type": "code",
      "metadata": {
        "id": "oi7czSpNM11B"
      },
      "source": [
        "import numpy as np\n",
        "import tensorflow as tf\n",
        "import pandas as pd\n",
        "from tensorflow import keras"
      ],
      "execution_count": 1,
      "outputs": []
    },
    {
      "cell_type": "code",
      "metadata": {
        "id": "SU4N5GZyvDMi"
      },
      "source": [
        "from keras.utils.vis_utils import plot_model"
      ],
      "execution_count": 5,
      "outputs": []
    },
    {
      "cell_type": "code",
      "metadata": {
        "id": "y-sg3u8HjhEB"
      },
      "source": [
        "from keras.models import Model\n",
        "from keras.layers import Input\n",
        "from keras.layers import Dense\n",
        "from keras.layers import Flatten"
      ],
      "execution_count": 6,
      "outputs": []
    },
    {
      "cell_type": "markdown",
      "source": [
        "#Carregando os dados"
      ],
      "metadata": {
        "id": "XrE1BsaTlWR-"
      }
    },
    {
      "cell_type": "code",
      "source": [
        "X = pd.read_csv(\"https://raw.githubusercontent.com/jrandrade07/DataSets/main/OSI_feats_e3.csv\")\n",
        "y = pd.read_csv(\"https://raw.githubusercontent.com/jrandrade07/DataSets/main/OSI_target_e2.csv\")"
      ],
      "metadata": {
        "id": "_tQBBc0ajth9"
      },
      "execution_count": 12,
      "outputs": []
    },
    {
      "cell_type": "code",
      "source": [
        "from sklearn.model_selection import train_test_split\n",
        "X_train, X_test, y_train, y_test = train_test_split(X, y, test_size=0.3, random_state=123)"
      ],
      "metadata": {
        "id": "70sgiHoWmfdS"
      },
      "execution_count": 15,
      "outputs": []
    },
    {
      "cell_type": "markdown",
      "metadata": {
        "id": "BKpVuQpatfOI"
      },
      "source": [
        "# Modelo Sequencial"
      ]
    },
    {
      "cell_type": "code",
      "metadata": {
        "id": "v23iXU25tsCL"
      },
      "source": [
        "from keras.models import Sequential"
      ],
      "execution_count": 8,
      "outputs": []
    },
    {
      "cell_type": "code",
      "metadata": {
        "id": "oBXFMQ7KthGG"
      },
      "source": [
        "model = Sequential()\n",
        "model.add(Dense(4, input_dim=1))\n",
        "model.add(Dense(1))"
      ],
      "execution_count": 13,
      "outputs": []
    },
    {
      "cell_type": "code",
      "metadata": {
        "id": "hBieenYm0DJW",
        "outputId": "4091e942-1287-4e1a-dd38-c32e0a767c35",
        "colab": {
          "base_uri": "https://localhost:8080/",
          "height": 272
        }
      },
      "source": [
        "plot_model(model)"
      ],
      "execution_count": 14,
      "outputs": [
        {
          "output_type": "execute_result",
          "data": {
            "image/png": "[encoded data removed]",
            "text/plain": [
              "<IPython.core.display.Image object>"
            ]
          },
          "metadata": {},
          "execution_count": 14
        }
      ]
    },
    {
      "cell_type": "markdown",
      "metadata": {
        "id": "96PAPXRz7Ux6"
      },
      "source": [
        "# Construindo um Modelo"
      ]
    },
    {
      "cell_type": "code",
      "metadata": {
        "id": "hFLcMzMc7wVY"
      },
      "source": [
        "# 2. Definir o modelo\n",
        "model = Sequential()\n",
        "model.add(Dense(12, input_dim=X.shape[1], activation='relu'))\n",
        "model.add(Dense(8, activation='relu'))\n",
        "model.add(Dense(1, activation='sigmoid'))"
      ],
      "execution_count": 19,
      "outputs": []
    },
    {
      "cell_type": "code",
      "source": [
        "X.shape[1]"
      ],
      "metadata": {
        "id": "VicqfhTJkakt",
        "outputId": "82a700d1-7216-4edb-9b83-4f615ae3701c",
        "colab": {
          "base_uri": "https://localhost:8080/"
        }
      },
      "execution_count": 18,
      "outputs": [
        {
          "output_type": "execute_result",
          "data": {
            "text/plain": [
              "68"
            ]
          },
          "metadata": {},
          "execution_count": 18
        }
      ]
    },
    {
      "cell_type": "code",
      "source": [
        ""
      ],
      "metadata": {
        "id": "TDr7JHaNkbmg"
      },
      "execution_count": null,
      "outputs": []
    },
    {
      "cell_type": "code",
      "source": [
        ""
      ],
      "metadata": {
        "id": "iv1kMKm6kbre"
      },
      "execution_count": null,
      "outputs": []
    },
    {
      "cell_type": "code",
      "source": [
        ""
      ],
      "metadata": {
        "id": "NfRWYvzQkbuP"
      },
      "execution_count": null,
      "outputs": []
    },
    {
      "cell_type": "code",
      "source": [
        ""
      ],
      "metadata": {
        "id": "2KZdRtn-kbwa"
      },
      "execution_count": null,
      "outputs": []
    },
    {
      "cell_type": "code",
      "source": [
        ""
      ],
      "metadata": {
        "id": "f7gVnD7SkbzF"
      },
      "execution_count": null,
      "outputs": []
    },
    {
      "cell_type": "code",
      "source": [
        ""
      ],
      "metadata": {
        "id": "YJcrICUAkb1h"
      },
      "execution_count": null,
      "outputs": []
    },
    {
      "cell_type": "code",
      "source": [
        ""
      ],
      "metadata": {
        "id": "G0R1JB8Skb4J"
      },
      "execution_count": null,
      "outputs": []
    },
    {
      "cell_type": "code",
      "source": [
        ""
      ],
      "metadata": {
        "id": "4lxZ8uCYkb6e"
      },
      "execution_count": null,
      "outputs": []
    },
    {
      "cell_type": "code",
      "source": [
        ""
      ],
      "metadata": {
        "id": "L2xzvBNNkb9H"
      },
      "execution_count": null,
      "outputs": []
    },
    {
      "cell_type": "code",
      "metadata": {
        "id": "R5ItSVz8jkVp"
      },
      "source": [
        "model.summary()"
      ],
      "execution_count": null,
      "outputs": []
    },
    {
      "cell_type": "code",
      "metadata": {
        "id": "3t2J3Mms7zp8"
      },
      "source": [
        "# 3. Compilar o modelo\n",
        "model.compile(loss='binary_crossentropy', optimizer='adam', metrics=['accuracy'])"
      ],
      "execution_count": null,
      "outputs": []
    },
    {
      "cell_type": "code",
      "metadata": {
        "id": "Al1wF4ye73xm"
      },
      "source": [
        "# 4. Ajustar o modelo aos dados\n",
        "model.fit(X, y, epochs=150, batch_size=10)"
      ],
      "execution_count": null,
      "outputs": []
    },
    {
      "cell_type": "code",
      "metadata": {
        "id": "MmmDKedr76vF"
      },
      "source": [
        "# 5. Avaliar o modelo\n",
        "_, accuracy = model.evaluate(X, y)\n",
        "print('Acurácia: %.2f' % (accuracy*100))"
      ],
      "execution_count": null,
      "outputs": []
    },
    {
      "cell_type": "code",
      "metadata": {
        "id": "GEFcSiM3qRtk"
      },
      "source": [
        ""
      ],
      "execution_count": null,
      "outputs": []
    },
    {
      "cell_type": "code",
      "metadata": {
        "id": "cgsKJE0T_M5W"
      },
      "source": [
        "# 6. Fazer predições\n",
        "pred = (model.predict(X) > 0.5).astype(\"int32\")"
      ],
      "execution_count": null,
      "outputs": []
    },
    {
      "cell_type": "code",
      "metadata": {
        "id": "P7EdRWz8_cV9"
      },
      "source": [
        "for i in range(10):\n",
        "  print('%s (real: %d | predito: %d)' % (X[i].tolist(), y[i], pred[i]))"
      ],
      "execution_count": null,
      "outputs": []
    },
    {
      "cell_type": "markdown",
      "metadata": {
        "id": "_tOqVKyIAes9"
      },
      "source": [
        "# Modelos Pré-treinados"
      ]
    },
    {
      "cell_type": "code",
      "metadata": {
        "id": "rQZXguZaD7RO"
      },
      "source": [
        "from PIL import Image\n",
        "from matplotlib.pyplot import imshow\n",
        "from tensorflow.keras.preprocessing import image\n",
        "from tensorflow.keras.applications.resnet50 import preprocess_input, decode_predictions\n",
        "from tensorflow.keras.applications.resnet50 import ResNet50"
      ],
      "execution_count": null,
      "outputs": []
    },
    {
      "cell_type": "code",
      "metadata": {
        "id": "DKpS_SDbD_IP"
      },
      "source": [
        "model = ResNet50(weights='imagenet')"
      ],
      "execution_count": null,
      "outputs": []
    },
    {
      "cell_type": "code",
      "metadata": {
        "id": "oe2A4lHqE8nQ"
      },
      "source": [
        "img_path = 'resnet50.jpg'\n",
        "img = Image.open(img_path)\n",
        "imshow(np.asarray(img))"
      ],
      "execution_count": null,
      "outputs": []
    },
    {
      "cell_type": "code",
      "metadata": {
        "id": "oqLl6t2aFg6m"
      },
      "source": [
        "img = image.load_img(img_path, target_size=(224, 224))\n",
        "x = image.img_to_array(img)\n",
        "x = np.expand_dims(x, axis=0)\n",
        "x = preprocess_input(x)\n",
        "preds = model.predict(x)\n",
        "print('Predito:', decode_predictions(preds, top=3)[0])"
      ],
      "execution_count": null,
      "outputs": []
    }
  ]
}