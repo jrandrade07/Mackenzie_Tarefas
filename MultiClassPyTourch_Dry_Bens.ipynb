{
  "nbformat": 4,
  "nbformat_minor": 0,
  "metadata": {
    "colab": {
      "name": "MultiClassPyTourch_Dry_Bens.ipynb",
      "provenance": [],
      "include_colab_link": true
    },
    "kernelspec": {
      "name": "python3",
      "display_name": "Python 3"
    },
    "language_info": {
      "name": "python"
    }
  },
  "cells": [
    {
      "cell_type": "markdown",
      "metadata": {
        "id": "view-in-github",
        "colab_type": "text"
      },
      "source": [
        "<a href=\"https://colab.research.google.com/github/jrandrade07/Mackenzie_Tarefas/blob/main/MultiClassPyTourch_Dry_Bens.ipynb\" target=\"_parent\"><img src=\"https://colab.research.google.com/assets/colab-badge.svg\" alt=\"Open In Colab\"/></a>"
      ]
    },
    {
      "cell_type": "markdown",
      "metadata": {
        "id": "XNI4_m8pV3GO"
      },
      "source": [
        "## CLASSIFICAÇÃO MULTCLASS COM PYTORCH\n",
        "Modelo de classificação multi classe utilizanod a biblioteca do Pytorch\n",
        "Para esse exemplo será utlizado com dataset Beans para para distinguir sete diferentes variedades registradas de feijão seco com características semelhantes, a fim de obter uma classificação uniforme das sementes."
      ]
    },
    {
      "cell_type": "markdown",
      "metadata": {
        "id": "EyTkz_ZfW3HE"
      },
      "source": [
        "IMPORTANDO AS BIBLIOTECAS"
      ]
    },
    {
      "cell_type": "code",
      "metadata": {
        "id": "reZAXHDV-5Dj"
      },
      "source": [
        "import numpy as np\n",
        "import pandas as pd\n",
        "import matplotlib.pyplot as plt\n",
        "import seaborn as sns\n",
        "import torch\n",
        "import tqdm # somente para display da evolução do loop\n",
        "import torch.nn as nn\n",
        "from torch.autograd import Variable\n",
        "from sklearn.preprocessing import scale\n",
        "from sklearn.model_selection import train_test_split"
      ],
      "execution_count": 1,
      "outputs": []
    },
    {
      "cell_type": "markdown",
      "metadata": {
        "id": "iFt9VrDUW8xN"
      },
      "source": [
        "CARREGANDO O DATASET"
      ]
    },
    {
      "cell_type": "code",
      "metadata": {
        "colab": {
          "base_uri": "https://localhost:8080/"
        },
        "id": "-WmrLRlp_BeU",
        "outputId": "3cb28cd2-678a-4ce2-b6b9-451ce6df0503"
      },
      "source": [
        "df = pd.read_csv(\"https://raw.githubusercontent.com/jrandrade07/DataSets/main/Beans.csv\")\n",
        "print(df)"
      ],
      "execution_count": 2,
      "outputs": [
        {
          "output_type": "stream",
          "name": "stdout",
          "text": [
            "       Unnamed: 0   Area  Perimeter  ...  ShapeFactor3  ShapeFactor4     Class\n",
            "0               0  28395    610.291  ...      0.834222      0.998724     SEKER\n",
            "1               1  28734    638.018  ...      0.909851      0.998430     SEKER\n",
            "2               2  29380    624.110  ...      0.825871      0.999066     SEKER\n",
            "3               3  30008    645.884  ...      0.861794      0.994199     SEKER\n",
            "4               4  30140    620.134  ...      0.941900      0.999166     SEKER\n",
            "...           ...    ...        ...  ...           ...           ...       ...\n",
            "13606       13606  42097    759.696  ...      0.642988      0.998385  DERMASON\n",
            "13607       13607  42101    757.499  ...      0.676099      0.998219  DERMASON\n",
            "13608       13608  42139    759.321  ...      0.676884      0.996767  DERMASON\n",
            "13609       13609  42147    763.779  ...      0.668237      0.995222  DERMASON\n",
            "13610       13610  42159    772.237  ...      0.616221      0.998180  DERMASON\n",
            "\n",
            "[13611 rows x 18 columns]\n"
          ]
        }
      ]
    },
    {
      "cell_type": "markdown",
      "metadata": {
        "id": "DNdSgPcrXIjz"
      },
      "source": [
        "ANALISANDO OS DADOS PARA POSSÍVEIS TRATAMENTOS"
      ]
    },
    {
      "cell_type": "code",
      "metadata": {
        "colab": {
          "base_uri": "https://localhost:8080/"
        },
        "id": "ho4UC9Lb_B_y",
        "outputId": "4dd902db-1cef-430a-e7c6-15bc4d942d24"
      },
      "source": [
        "df.isnull().sum()"
      ],
      "execution_count": 3,
      "outputs": [
        {
          "output_type": "execute_result",
          "data": {
            "text/plain": [
              "Unnamed: 0         0\n",
              "Area               0\n",
              "Perimeter          0\n",
              "MajorAxisLength    0\n",
              "MinorAxisLength    0\n",
              "AspectRation       0\n",
              "Eccentricity       0\n",
              "ConvexArea         0\n",
              "EquivDiameter      0\n",
              "Extent             0\n",
              "Solidity           0\n",
              "roundness          0\n",
              "Compactness        0\n",
              "ShapeFactor1       0\n",
              "ShapeFactor2       0\n",
              "ShapeFactor3       0\n",
              "ShapeFactor4       0\n",
              "Class              0\n",
              "dtype: int64"
            ]
          },
          "metadata": {},
          "execution_count": 3
        }
      ]
    },
    {
      "cell_type": "code",
      "metadata": {
        "colab": {
          "base_uri": "https://localhost:8080/",
          "height": 49
        },
        "id": "mMMGCSCZ_EFH",
        "outputId": "2e286586-fca5-4146-d303-7b1cb7cbb3e6"
      },
      "source": [
        "df[df.duplicated(keep=False)]"
      ],
      "execution_count": 4,
      "outputs": [
        {
          "output_type": "execute_result",
          "data": {
            "text/html": [
              "<div>\n",
              "<style scoped>\n",
              "    .dataframe tbody tr th:only-of-type {\n",
              "        vertical-align: middle;\n",
              "    }\n",
              "\n",
              "    .dataframe tbody tr th {\n",
              "        vertical-align: top;\n",
              "    }\n",
              "\n",
              "    .dataframe thead th {\n",
              "        text-align: right;\n",
              "    }\n",
              "</style>\n",
              "<table border=\"1\" class=\"dataframe\">\n",
              "  <thead>\n",
              "    <tr style=\"text-align: right;\">\n",
              "      <th></th>\n",
              "      <th>Unnamed: 0</th>\n",
              "      <th>Area</th>\n",
              "      <th>Perimeter</th>\n",
              "      <th>MajorAxisLength</th>\n",
              "      <th>MinorAxisLength</th>\n",
              "      <th>AspectRation</th>\n",
              "      <th>Eccentricity</th>\n",
              "      <th>ConvexArea</th>\n",
              "      <th>EquivDiameter</th>\n",
              "      <th>Extent</th>\n",
              "      <th>Solidity</th>\n",
              "      <th>roundness</th>\n",
              "      <th>Compactness</th>\n",
              "      <th>ShapeFactor1</th>\n",
              "      <th>ShapeFactor2</th>\n",
              "      <th>ShapeFactor3</th>\n",
              "      <th>ShapeFactor4</th>\n",
              "      <th>Class</th>\n",
              "    </tr>\n",
              "  </thead>\n",
              "  <tbody>\n",
              "  </tbody>\n",
              "</table>\n",
              "</div>"
            ],
            "text/plain": [
              "Empty DataFrame\n",
              "Columns: [Unnamed: 0, Area, Perimeter, MajorAxisLength, MinorAxisLength, AspectRation, Eccentricity, ConvexArea, EquivDiameter, Extent, Solidity, roundness, Compactness, ShapeFactor1, ShapeFactor2, ShapeFactor3, ShapeFactor4, Class]\n",
              "Index: []"
            ]
          },
          "metadata": {},
          "execution_count": 4
        }
      ]
    },
    {
      "cell_type": "code",
      "metadata": {
        "colab": {
          "base_uri": "https://localhost:8080/",
          "height": 296
        },
        "id": "tMqQ5Qtf_IuY",
        "outputId": "9ac8d511-4079-4327-d832-956ddc6ee1f2"
      },
      "source": [
        "sns.countplot(x = 'Class', data=df)"
      ],
      "execution_count": 5,
      "outputs": [
        {
          "output_type": "execute_result",
          "data": {
            "text/plain": [
              "<matplotlib.axes._subplots.AxesSubplot at 0x7ff4a2b1b350>"
            ]
          },
          "metadata": {},
          "execution_count": 5
        },
        {
          "output_type": "display_data",
          "data": {
            "image/png": "[encoded data removed]",
            "text/plain": [
              "<Figure size 432x288 with 1 Axes>"
            ]
          },
          "metadata": {
            "needs_background": "light"
          }
        }
      ]
    },
    {
      "cell_type": "markdown",
      "metadata": {
        "id": "qnzE2oO4XQoM"
      },
      "source": [
        "CRIANDO UM DICIONÁRIO CHAVE VALOR COM OS DADOS DE SAIDA"
      ]
    },
    {
      "cell_type": "code",
      "metadata": {
        "id": "W_Ejvj1C_frJ"
      },
      "source": [
        "#criando um dicionário chave valor\n",
        "class2idx = {\n",
        "    'SEKER':0,\n",
        "    'BARBUNYA':1,\n",
        "    'BOMBAY':2,\n",
        "    'CALI':3,\n",
        "    'HOROZ':4,\n",
        "    'SIRA':5,\n",
        "    'DERMASON':6\n",
        "}\n",
        "\n",
        "idx2class = {v: k for k, v in class2idx.items()}\n",
        "df['Class'].replace(class2idx, inplace=True)"
      ],
      "execution_count": 6,
      "outputs": []
    },
    {
      "cell_type": "markdown",
      "metadata": {
        "id": "cTjvIZGaXo2r"
      },
      "source": [
        "CRIANDO DADOS DE ENTRADA E SAÍDA"
      ]
    },
    {
      "cell_type": "code",
      "metadata": {
        "id": "UAEiUK7rJG64",
        "colab": {
          "base_uri": "https://localhost:8080/",
          "height": 281
        },
        "outputId": "2fd0cfb0-9c29-49fb-f0ad-b9615939511f"
      },
      "source": [
        "X = scale(df.iloc[:, 0:-1])\n",
        "y = df.iloc[:, -1]\n",
        "\n",
        "sns.scatterplot(x=X[:, 0], y=X[:, 1], hue=y, marker='o', s=50, edgecolor='k', legend=False).set_title(\"Data\")\n",
        "plt.show()"
      ],
      "execution_count": 7,
      "outputs": [
        {
          "output_type": "display_data",
          "data": {
            "image/png": "[encoded data removed]",
            "text/plain": [
              "<Figure size 432x288 with 1 Axes>"
            ]
          },
          "metadata": {
            "needs_background": "light"
          }
        }
      ]
    },
    {
      "cell_type": "markdown",
      "metadata": {
        "id": "8TMXBi0XX-VM"
      },
      "source": [
        "TREINO E TESTE SPLIT"
      ]
    },
    {
      "cell_type": "code",
      "metadata": {
        "id": "IwcYFbXbIi5h"
      },
      "source": [
        "X_train, X_test, y_train, y_test = train_test_split(X, y, test_size=0.3, random_state=123)"
      ],
      "execution_count": 8,
      "outputs": []
    },
    {
      "cell_type": "markdown",
      "metadata": {
        "id": "BKYrMQjCYJVN"
      },
      "source": [
        "DEFININDO O MODELO"
      ]
    },
    {
      "cell_type": "code",
      "metadata": {
        "id": "k5NFvtsNIjAk"
      },
      "source": [
        "class Model(nn.Module):\n",
        "    def __init__(self, input_dim):\n",
        "        super(Model, self).__init__()\n",
        "        self.layer1 = nn.Linear(input_dim, 50)\n",
        "        self.layer2 = nn.Linear(50, 50)\n",
        "        self.layer3 = nn.Linear(50, 7)\n",
        "        \n",
        "    def forward(self, x):\n",
        "        x = torch.relu(self.layer1(x))\n",
        "        x = torch.relu(self.layer2(x))\n",
        "        # x = torch.sigmoid(self.layer3(x))        # você pode querer empregar a sigmoid ou a softmax\n",
        "        x = torch.softmax(self.layer3(x), dim=1)\n",
        "        return x"
      ],
      "execution_count": 9,
      "outputs": []
    },
    {
      "cell_type": "markdown",
      "metadata": {
        "id": "OL0AhaNQYSSl"
      },
      "source": [
        "INICIALIZANDO"
      ]
    },
    {
      "cell_type": "code",
      "metadata": {
        "id": "snoj594jIjFl",
        "colab": {
          "base_uri": "https://localhost:8080/"
        },
        "outputId": "8877b423-f8ab-461c-8cf7-3686db57f544"
      },
      "source": [
        "model     = Model(X_train.shape[1])\n",
        "optimizer = torch.optim.Adam(model.parameters(), lr=0.001)\n",
        "loss_fn   = nn.CrossEntropyLoss()\n",
        "model"
      ],
      "execution_count": 10,
      "outputs": [
        {
          "output_type": "execute_result",
          "data": {
            "text/plain": [
              "Model(\n",
              "  (layer1): Linear(in_features=17, out_features=50, bias=True)\n",
              "  (layer2): Linear(in_features=50, out_features=50, bias=True)\n",
              "  (layer3): Linear(in_features=50, out_features=7, bias=True)\n",
              ")"
            ]
          },
          "metadata": {},
          "execution_count": 10
        }
      ]
    },
    {
      "cell_type": "code",
      "metadata": {
        "id": "FTZCeH-CJl95"
      },
      "source": [
        "X_train = Variable(torch.from_numpy(np.array(X_train))).float()\n",
        "y_train = Variable(torch.from_numpy(np.array(y_train))).long()\n",
        "X_test  = Variable(torch.from_numpy(np.array(X_test))).float()\n",
        "y_test  = Variable(torch.from_numpy(np.array(y_test))).long()"
      ],
      "execution_count": 11,
      "outputs": []
    },
    {
      "cell_type": "markdown",
      "metadata": {
        "id": "CpQQOIxTZqpU"
      },
      "source": [
        "APLICANDO E OBSERVANDO AS SAÍDAS PRODUZIDAS PELO MODELO NÃO TREINADO"
      ]
    },
    {
      "cell_type": "code",
      "metadata": {
        "id": "Pl6EzLN1JmAQ",
        "colab": {
          "base_uri": "https://localhost:8080/"
        },
        "outputId": "6223bcc5-53e4-4439-e981-0346c3d37087"
      },
      "source": [
        "model(X_train)[0:10] # exibindo somente as 10 primeiras ocorrências"
      ],
      "execution_count": 12,
      "outputs": [
        {
          "output_type": "execute_result",
          "data": {
            "text/plain": [
              "tensor([[0.1531, 0.1748, 0.1179, 0.1537, 0.1464, 0.1427, 0.1114],\n",
              "        [0.1653, 0.1785, 0.1168, 0.1562, 0.1506, 0.1246, 0.1081],\n",
              "        [0.1662, 0.1712, 0.1186, 0.1616, 0.1495, 0.1236, 0.1092],\n",
              "        [0.1443, 0.1871, 0.1249, 0.1374, 0.1537, 0.1268, 0.1258],\n",
              "        [0.1571, 0.1635, 0.1243, 0.1445, 0.1484, 0.1428, 0.1192],\n",
              "        [0.1572, 0.1639, 0.1239, 0.1393, 0.1511, 0.1406, 0.1241],\n",
              "        [0.1570, 0.1658, 0.1234, 0.1388, 0.1512, 0.1389, 0.1249],\n",
              "        [0.1608, 0.1606, 0.1223, 0.1453, 0.1502, 0.1388, 0.1220],\n",
              "        [0.1539, 0.1897, 0.1248, 0.1418, 0.1516, 0.1173, 0.1208],\n",
              "        [0.1560, 0.1854, 0.1215, 0.1474, 0.1506, 0.1186, 0.1206]],\n",
              "       grad_fn=<SliceBackward0>)"
            ]
          },
          "metadata": {},
          "execution_count": 12
        }
      ]
    },
    {
      "cell_type": "markdown",
      "metadata": {
        "id": "nyNgI2NZZwPO"
      },
      "source": [
        "APLICANDO A UMA ÚNICA INSTÂNCIA DOS DADOS"
      ]
    },
    {
      "cell_type": "code",
      "metadata": {
        "id": "K7cu0b6rJmCv",
        "colab": {
          "base_uri": "https://localhost:8080/"
        },
        "outputId": "af25291e-b3cd-4d3e-db8d-169b89e5a3ad"
      },
      "source": [
        "print('Check shape X_train: ', X_train.shape)\n",
        "print('Check shape X_train[0]: ', X_train[0].shape)\n",
        "print('Check shape X_train[0].reshape([1,17]): ', X_train[0].reshape([1,17]).shape)\n",
        "\n",
        "model( X_train[0].reshape([1,17]) )"
      ],
      "execution_count": 13,
      "outputs": [
        {
          "output_type": "stream",
          "name": "stdout",
          "text": [
            "Check shape X_train:  torch.Size([9527, 17])\n",
            "Check shape X_train[0]:  torch.Size([17])\n",
            "Check shape X_train[0].reshape([1,17]):  torch.Size([1, 17])\n"
          ]
        },
        {
          "output_type": "execute_result",
          "data": {
            "text/plain": [
              "tensor([[0.1531, 0.1748, 0.1179, 0.1537, 0.1464, 0.1427, 0.1114]],\n",
              "       grad_fn=<SoftmaxBackward0>)"
            ]
          },
          "metadata": {},
          "execution_count": 13
        }
      ]
    },
    {
      "cell_type": "markdown",
      "metadata": {
        "id": "GKFUGHkCZ4g-"
      },
      "source": [
        "TREINAMENTO"
      ]
    },
    {
      "cell_type": "code",
      "metadata": {
        "id": "0lf7oGxjJmE4",
        "colab": {
          "base_uri": "https://localhost:8080/"
        },
        "outputId": "21f6e7e5-011d-4764-88fd-b38249ed62ef"
      },
      "source": [
        "EPOCHS  = 150\n",
        "\n",
        "loss_list     = np.zeros((EPOCHS,))\n",
        "accuracy_list = np.zeros((EPOCHS,))\n",
        "\n",
        "for epoch in tqdm.trange(EPOCHS):\n",
        "    y_pred = model(X_train)\n",
        "    loss = loss_fn(y_pred, y_train)\n",
        "    loss_list[epoch] = loss.item()\n",
        "    \n",
        "    # Zero gradients\n",
        "    optimizer.zero_grad()\n",
        "    loss.backward()\n",
        "    optimizer.step()\n",
        "    \n",
        "    with torch.no_grad():\n",
        "        y_pred = model(X_test)\n",
        "        correct = (torch.argmax(y_pred, dim=1) == y_test).type(torch.FloatTensor)\n",
        "        accuracy_list[epoch] = correct.mean()"
      ],
      "execution_count": 14,
      "outputs": [
        {
          "output_type": "stream",
          "name": "stderr",
          "text": [
            "100%|██████████| 150/150 [00:03<00:00, 38.32it/s]\n"
          ]
        }
      ]
    },
    {
      "cell_type": "markdown",
      "metadata": {
        "id": "_1YZjDkeZ9Bg"
      },
      "source": [
        "CURVA DE APRENDIZADO"
      ]
    },
    {
      "cell_type": "code",
      "metadata": {
        "id": "CwIrBvZ_JmHZ",
        "colab": {
          "base_uri": "https://localhost:8080/",
          "height": 497
        },
        "outputId": "f1b0d8d5-f14a-4c7a-81c5-4c4380f753da"
      },
      "source": [
        "def plot_history(loss_list,  accuracy_list):\n",
        "  fig, (ax1, ax2) = plt.subplots(2, figsize=(6, 8), sharex=True)\n",
        "\n",
        "  ax1.plot(accuracy_list)\n",
        "  ax1.set_ylabel(\"validation accuracy\")\n",
        "  ax2.plot(loss_list)\n",
        "  ax2.set_ylabel(\"validation loss\")\n",
        "  ax2.set_xlabel(\"epochs\")\n",
        "  plt.show()\n",
        "\n",
        "  return\n",
        "\n",
        "plot_history(loss_list,  accuracy_list) "
      ],
      "execution_count": 15,
      "outputs": [
        {
          "output_type": "display_data",
          "data": {
            "image/png": "[encoded data removed]",
            "text/plain": [
              "<Figure size 432x576 with 2 Axes>"
            ]
          },
          "metadata": {
            "needs_background": "light"
          }
        }
      ]
    },
    {
      "cell_type": "markdown",
      "metadata": {
        "id": "SAjMBwXgaB9i"
      },
      "source": [
        "PREDIÇÃO"
      ]
    },
    {
      "cell_type": "code",
      "metadata": {
        "id": "lTDGwd5BJmJj"
      },
      "source": [
        "X_ = Variable(torch.from_numpy(X)).float()\n",
        "y_pred = model(X_)"
      ],
      "execution_count": 16,
      "outputs": []
    },
    {
      "cell_type": "code",
      "metadata": {
        "id": "JXxoJLBTJmL5"
      },
      "source": [
        "y_pred = np.argmax( y_pred.detach().numpy(), axis=1 )"
      ],
      "execution_count": 17,
      "outputs": []
    },
    {
      "cell_type": "code",
      "metadata": {
        "id": "HFBnhsfuJmOR",
        "colab": {
          "base_uri": "https://localhost:8080/",
          "height": 281
        },
        "outputId": "d6391c27-22c0-4a4d-8813-9eb2077683c6"
      },
      "source": [
        "sns.scatterplot(x=X[:, 0], y=X[:, 1], hue=y_pred, marker='o', s=250, legend=False, alpha=0.6)\n",
        "sns.scatterplot(x=X[:, 0], y=X[:, 1], hue=y, marker='o', s=50, edgecolor='k', legend=False).set_title(\"Data\")\n",
        "\n",
        "plt.show()"
      ],
      "execution_count": 18,
      "outputs": [
        {
          "output_type": "display_data",
          "data": {
            "image/png": "[encoded data removed]",
            "text/plain": [
              "<Figure size 432x288 with 1 Axes>"
            ]
          },
          "metadata": {
            "needs_background": "light"
          }
        }
      ]
    },
    {
      "cell_type": "markdown",
      "metadata": {
        "id": "dvHztVpQaLGQ"
      },
      "source": [
        "ATUALIZANDO O DICIONÁRIO"
      ]
    },
    {
      "cell_type": "code",
      "metadata": {
        "id": "sojPI_I6OMT7"
      },
      "source": [
        "def get_class_distribution(obj):\n",
        "    count_dict = {\n",
        "        \"SEKER\": 0,\n",
        "        \"BARBUNYA\": 0,\n",
        "        \"BOMBAY\": 0,\n",
        "        \"CALI\": 0,\n",
        "        \"HOROZ\": 0,\n",
        "        \"SIRA\": 0,\n",
        "        \"DERMASON\" : 0,\n",
        "    }\n",
        "\n",
        "  \n",
        "    for i in obj:\n",
        "        if i == 0: \n",
        "            count_dict['SEKER'] += 1\n",
        "        elif i == 1: \n",
        "            count_dict['BARBUNYA'] += 1\n",
        "        elif i == 2: \n",
        "            count_dict['BOMBAY'] += 1\n",
        "        elif i == 3: \n",
        "            count_dict['CALI'] += 1\n",
        "        elif i == 4: \n",
        "            count_dict['HOROZ'] += 1  \n",
        "        elif i == 5: \n",
        "            count_dict['SIRA'] += 1 \n",
        "        elif i == 6: \n",
        "            count_dict['DERMASON'] += 1              \n",
        "        else:\n",
        "            print(\"Check classes.\")\n",
        "            \n",
        "    return count_dict"
      ],
      "execution_count": 19,
      "outputs": []
    },
    {
      "cell_type": "code",
      "metadata": {
        "id": "GXvDqPalRoSK",
        "colab": {
          "base_uri": "https://localhost:8080/",
          "height": 475
        },
        "outputId": "ce7d87ad-1ce6-4c26-b61e-6e0612e0a752"
      },
      "source": [
        "fig, axes = plt.subplots(nrows=1, ncols=3, figsize=(25,7))\n",
        "# Trainamento\n",
        "sns.barplot(data = pd.DataFrame.from_dict([get_class_distribution(y_train)]).melt(), x = \"variable\", y=\"value\", hue=\"variable\",  ax=axes[0]).set_title('Distribuição de Classes no Treinamento')\n",
        "# Validação\n",
        "sns.barplot(data = pd.DataFrame.from_dict([get_class_distribution(y_pred)]).melt(), x = \"variable\", y=\"value\", hue=\"variable\",  ax=axes[1]).set_title('Distribuição de Classes na Validação')\n",
        "# Teste\n",
        "sns.barplot(data = pd.DataFrame.from_dict([get_class_distribution(y_test)]).melt(), x = \"variable\", y=\"value\", hue=\"variable\",  ax=axes[2]).set_title('Distribuição de Classes nos Testes')"
      ],
      "execution_count": 20,
      "outputs": [
        {
          "output_type": "execute_result",
          "data": {
            "text/plain": [
              "Text(0.5, 1.0, 'Distribuição de Classes nos Testes')"
            ]
          },
          "metadata": {},
          "execution_count": 20
        },
        {
          "output_type": "display_data",
          "data": {
            "image/png": "[encoded data removed]",
            "text/plain": [
              "<Figure size 1800x504 with 3 Axes>"
            ]
          },
          "metadata": {
            "needs_background": "light"
          }
        }
      ]
    }
  ]
}