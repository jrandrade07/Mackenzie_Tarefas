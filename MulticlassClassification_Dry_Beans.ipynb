{
  "nbformat": 4,
  "nbformat_minor": 0,
  "metadata": {
    "colab": {
      "name": "MulticlassClassification_Dry_Beans.ipynb",
      "provenance": []
    },
    "kernelspec": {
      "name": "python3",
      "display_name": "Python 3"
    },
    "language_info": {
      "name": "python"
    }
  },
  "cells": [
    {
      "cell_type": "markdown",
      "metadata": {
        "id": "5z95x2TE4iLm"
      },
      "source": [
        "# IMPORTANDO AS BIBLIOTECAS"
      ]
    },
    {
      "cell_type": "code",
      "metadata": {
        "id": "u2gpEEH-ruLW"
      },
      "source": [
        "import pandas as pd\n",
        "import numpy as np\n",
        "from sklearn.preprocessing import scale\n",
        "from sklearn.model_selection import train_test_split\n",
        "from tensorflow import keras\n",
        "from tensorflow.keras import layers\n",
        "import tensorflow as tf\n",
        "from sklearn.metrics import confusion_matrix, classification_report, accuracy_score"
      ],
      "execution_count": null,
      "outputs": []
    },
    {
      "cell_type": "markdown",
      "metadata": {
        "id": "DmKsD46G4qRe"
      },
      "source": [
        "#CARREGANDO E VISUALIZANDO DATASET\n",
        "Um sistema de visão computacional foi desenvolvido para distinguir sete diferentes variedades registradas de feijão seco com características semelhantes, a fim de obter uma classificação uniforme das sementes. Para o modelo de classificação, imagens de 13.611 grãos de 7 diferentes grãos secos registrados foram tiradas com uma câmera de alta resolução. As imagens de feijão obtidas por sistema de visão computacional foram submetidas às etapas de segmentação e extração de recursos, totalizando 16 recursos; 12 dimensões e 4 formas de forma, foram obtidas a partir dos grãos."
      ]
    },
    {
      "cell_type": "code",
      "metadata": {
        "colab": {
          "base_uri": "https://localhost:8080/",
          "height": 244
        },
        "id": "edafktPs6w5y",
        "outputId": "9dcb3079-31a4-4648-c470-204bf4d15c04"
      },
      "source": [
        "df = pd.read_csv(\"https://raw.githubusercontent.com/jrandrade07/DataSets/main/Beans.csv\")\n",
        "df.head()"
      ],
      "execution_count": null,
      "outputs": [
        {
          "output_type": "execute_result",
          "data": {
            "text/html": [
              "<div>\n",
              "<style scoped>\n",
              "    .dataframe tbody tr th:only-of-type {\n",
              "        vertical-align: middle;\n",
              "    }\n",
              "\n",
              "    .dataframe tbody tr th {\n",
              "        vertical-align: top;\n",
              "    }\n",
              "\n",
              "    .dataframe thead th {\n",
              "        text-align: right;\n",
              "    }\n",
              "</style>\n",
              "<table border=\"1\" class=\"dataframe\">\n",
              "  <thead>\n",
              "    <tr style=\"text-align: right;\">\n",
              "      <th></th>\n",
              "      <th>Unnamed: 0</th>\n",
              "      <th>Area</th>\n",
              "      <th>Perimeter</th>\n",
              "      <th>MajorAxisLength</th>\n",
              "      <th>MinorAxisLength</th>\n",
              "      <th>AspectRation</th>\n",
              "      <th>Eccentricity</th>\n",
              "      <th>ConvexArea</th>\n",
              "      <th>EquivDiameter</th>\n",
              "      <th>Extent</th>\n",
              "      <th>Solidity</th>\n",
              "      <th>roundness</th>\n",
              "      <th>Compactness</th>\n",
              "      <th>ShapeFactor1</th>\n",
              "      <th>ShapeFactor2</th>\n",
              "      <th>ShapeFactor3</th>\n",
              "      <th>ShapeFactor4</th>\n",
              "      <th>Class</th>\n",
              "    </tr>\n",
              "  </thead>\n",
              "  <tbody>\n",
              "    <tr>\n",
              "      <th>0</th>\n",
              "      <td>0</td>\n",
              "      <td>28395</td>\n",
              "      <td>610.291</td>\n",
              "      <td>208.178117</td>\n",
              "      <td>173.888747</td>\n",
              "      <td>1.197191</td>\n",
              "      <td>0.549812</td>\n",
              "      <td>28715</td>\n",
              "      <td>190.141097</td>\n",
              "      <td>0.763923</td>\n",
              "      <td>0.988856</td>\n",
              "      <td>0.958027</td>\n",
              "      <td>0.913358</td>\n",
              "      <td>0.007332</td>\n",
              "      <td>0.003147</td>\n",
              "      <td>0.834222</td>\n",
              "      <td>0.998724</td>\n",
              "      <td>SEKER</td>\n",
              "    </tr>\n",
              "    <tr>\n",
              "      <th>1</th>\n",
              "      <td>1</td>\n",
              "      <td>28734</td>\n",
              "      <td>638.018</td>\n",
              "      <td>200.524796</td>\n",
              "      <td>182.734419</td>\n",
              "      <td>1.097356</td>\n",
              "      <td>0.411785</td>\n",
              "      <td>29172</td>\n",
              "      <td>191.272750</td>\n",
              "      <td>0.783968</td>\n",
              "      <td>0.984986</td>\n",
              "      <td>0.887034</td>\n",
              "      <td>0.953861</td>\n",
              "      <td>0.006979</td>\n",
              "      <td>0.003564</td>\n",
              "      <td>0.909851</td>\n",
              "      <td>0.998430</td>\n",
              "      <td>SEKER</td>\n",
              "    </tr>\n",
              "    <tr>\n",
              "      <th>2</th>\n",
              "      <td>2</td>\n",
              "      <td>29380</td>\n",
              "      <td>624.110</td>\n",
              "      <td>212.826130</td>\n",
              "      <td>175.931143</td>\n",
              "      <td>1.209713</td>\n",
              "      <td>0.562727</td>\n",
              "      <td>29690</td>\n",
              "      <td>193.410904</td>\n",
              "      <td>0.778113</td>\n",
              "      <td>0.989559</td>\n",
              "      <td>0.947849</td>\n",
              "      <td>0.908774</td>\n",
              "      <td>0.007244</td>\n",
              "      <td>0.003048</td>\n",
              "      <td>0.825871</td>\n",
              "      <td>0.999066</td>\n",
              "      <td>SEKER</td>\n",
              "    </tr>\n",
              "    <tr>\n",
              "      <th>3</th>\n",
              "      <td>3</td>\n",
              "      <td>30008</td>\n",
              "      <td>645.884</td>\n",
              "      <td>210.557999</td>\n",
              "      <td>182.516516</td>\n",
              "      <td>1.153638</td>\n",
              "      <td>0.498616</td>\n",
              "      <td>30724</td>\n",
              "      <td>195.467062</td>\n",
              "      <td>0.782681</td>\n",
              "      <td>0.976696</td>\n",
              "      <td>0.903936</td>\n",
              "      <td>0.928329</td>\n",
              "      <td>0.007017</td>\n",
              "      <td>0.003215</td>\n",
              "      <td>0.861794</td>\n",
              "      <td>0.994199</td>\n",
              "      <td>SEKER</td>\n",
              "    </tr>\n",
              "    <tr>\n",
              "      <th>4</th>\n",
              "      <td>4</td>\n",
              "      <td>30140</td>\n",
              "      <td>620.134</td>\n",
              "      <td>201.847882</td>\n",
              "      <td>190.279279</td>\n",
              "      <td>1.060798</td>\n",
              "      <td>0.333680</td>\n",
              "      <td>30417</td>\n",
              "      <td>195.896503</td>\n",
              "      <td>0.773098</td>\n",
              "      <td>0.990893</td>\n",
              "      <td>0.984877</td>\n",
              "      <td>0.970516</td>\n",
              "      <td>0.006697</td>\n",
              "      <td>0.003665</td>\n",
              "      <td>0.941900</td>\n",
              "      <td>0.999166</td>\n",
              "      <td>SEKER</td>\n",
              "    </tr>\n",
              "  </tbody>\n",
              "</table>\n",
              "</div>"
            ],
            "text/plain": [
              "   Unnamed: 0   Area  Perimeter  ...  ShapeFactor3  ShapeFactor4  Class\n",
              "0           0  28395    610.291  ...      0.834222      0.998724  SEKER\n",
              "1           1  28734    638.018  ...      0.909851      0.998430  SEKER\n",
              "2           2  29380    624.110  ...      0.825871      0.999066  SEKER\n",
              "3           3  30008    645.884  ...      0.861794      0.994199  SEKER\n",
              "4           4  30140    620.134  ...      0.941900      0.999166  SEKER\n",
              "\n",
              "[5 rows x 18 columns]"
            ]
          },
          "metadata": {},
          "execution_count": 2
        }
      ]
    },
    {
      "cell_type": "markdown",
      "metadata": {
        "id": "oh0ge6m150Qe"
      },
      "source": [
        "# ANALISANDO OS DADOS\n",
        "Verificando a existência de campos nulos"
      ]
    },
    {
      "cell_type": "code",
      "metadata": {
        "colab": {
          "base_uri": "https://localhost:8080/"
        },
        "id": "d75ymNe265SJ",
        "outputId": "70326e23-0db8-415c-fa2c-6a9aca353016"
      },
      "source": [
        "#Verificando se há valores nulos\n",
        "df.isnull().sum()"
      ],
      "execution_count": null,
      "outputs": [
        {
          "output_type": "execute_result",
          "data": {
            "text/plain": [
              "Unnamed: 0         0\n",
              "Area               0\n",
              "Perimeter          0\n",
              "MajorAxisLength    0\n",
              "MinorAxisLength    0\n",
              "AspectRation       0\n",
              "Eccentricity       0\n",
              "ConvexArea         0\n",
              "EquivDiameter      0\n",
              "Extent             0\n",
              "Solidity           0\n",
              "roundness          0\n",
              "Compactness        0\n",
              "ShapeFactor1       0\n",
              "ShapeFactor2       0\n",
              "ShapeFactor3       0\n",
              "ShapeFactor4       0\n",
              "Class              0\n",
              "dtype: int64"
            ]
          },
          "metadata": {},
          "execution_count": 3
        }
      ]
    },
    {
      "cell_type": "code",
      "metadata": {
        "id": "VQnLPGOuaz-m",
        "colab": {
          "base_uri": "https://localhost:8080/"
        },
        "outputId": "c0cfa240-a0c0-499f-ef71-0c55429f8f40"
      },
      "source": [
        "#Verificando a quantidade e disbuição de classes\n",
        "df.Class.value_counts()"
      ],
      "execution_count": null,
      "outputs": [
        {
          "output_type": "execute_result",
          "data": {
            "text/plain": [
              "DERMASON    3546\n",
              "SIRA        2636\n",
              "SEKER       2027\n",
              "HOROZ       1928\n",
              "CALI        1630\n",
              "BARBUNYA    1322\n",
              "BOMBAY       522\n",
              "Name: Class, dtype: int64"
            ]
          },
          "metadata": {},
          "execution_count": 4
        }
      ]
    },
    {
      "cell_type": "markdown",
      "metadata": {
        "id": "9iArU_jjMxmb"
      },
      "source": [
        "# PRE PROCESSAMENTO DOS DADOS"
      ]
    },
    {
      "cell_type": "code",
      "metadata": {
        "id": "3Td5Av5rbeQ7",
        "colab": {
          "base_uri": "https://localhost:8080/"
        },
        "outputId": "8343fb91-50f6-4152-c179-ebe78d87771b"
      },
      "source": [
        "X = scale(df.drop(columns=[\"Class\"]))\n",
        "print(X)"
      ],
      "execution_count": null,
      "outputs": [
        {
          "output_type": "stream",
          "name": "stdout",
          "text": [
            "[[-1.73192356 -0.84074853 -1.1433189  ...  2.40217287  1.92572347\n",
            "   0.83837103]\n",
            " [-1.73166905 -0.82918764 -1.01392388 ...  3.10089314  2.68970162\n",
            "   0.77113842]\n",
            " [-1.73141454 -0.80715717 -1.07882906 ...  2.23509147  1.84135576\n",
            "   0.91675514]\n",
            " ...\n",
            " [ 1.73141454 -0.37203825 -0.44783294 ...  0.28920441  0.33632829\n",
            "   0.39025114]\n",
            " [ 1.73166905 -0.37176543 -0.42702856 ...  0.22837538  0.2489734\n",
            "   0.03644001]\n",
            " [ 1.73192356 -0.37135619 -0.38755718 ... -0.12777587 -0.2764814\n",
            "   0.71371948]]\n"
          ]
        }
      ]
    },
    {
      "cell_type": "code",
      "metadata": {
        "colab": {
          "base_uri": "https://localhost:8080/",
          "height": 332
        },
        "id": "U36Ve2neLn7I",
        "outputId": "2dd70b9c-d0f8-4ec2-97c6-02a7dd19737f"
      },
      "source": [
        "y = pd.get_dummies(df[\"Class\"])\n",
        "y.head(9)"
      ],
      "execution_count": null,
      "outputs": [
        {
          "output_type": "execute_result",
          "data": {
            "text/html": [
              "<div>\n",
              "<style scoped>\n",
              "    .dataframe tbody tr th:only-of-type {\n",
              "        vertical-align: middle;\n",
              "    }\n",
              "\n",
              "    .dataframe tbody tr th {\n",
              "        vertical-align: top;\n",
              "    }\n",
              "\n",
              "    .dataframe thead th {\n",
              "        text-align: right;\n",
              "    }\n",
              "</style>\n",
              "<table border=\"1\" class=\"dataframe\">\n",
              "  <thead>\n",
              "    <tr style=\"text-align: right;\">\n",
              "      <th></th>\n",
              "      <th>BARBUNYA</th>\n",
              "      <th>BOMBAY</th>\n",
              "      <th>CALI</th>\n",
              "      <th>DERMASON</th>\n",
              "      <th>HOROZ</th>\n",
              "      <th>SEKER</th>\n",
              "      <th>SIRA</th>\n",
              "    </tr>\n",
              "  </thead>\n",
              "  <tbody>\n",
              "    <tr>\n",
              "      <th>0</th>\n",
              "      <td>0</td>\n",
              "      <td>0</td>\n",
              "      <td>0</td>\n",
              "      <td>0</td>\n",
              "      <td>0</td>\n",
              "      <td>1</td>\n",
              "      <td>0</td>\n",
              "    </tr>\n",
              "    <tr>\n",
              "      <th>1</th>\n",
              "      <td>0</td>\n",
              "      <td>0</td>\n",
              "      <td>0</td>\n",
              "      <td>0</td>\n",
              "      <td>0</td>\n",
              "      <td>1</td>\n",
              "      <td>0</td>\n",
              "    </tr>\n",
              "    <tr>\n",
              "      <th>2</th>\n",
              "      <td>0</td>\n",
              "      <td>0</td>\n",
              "      <td>0</td>\n",
              "      <td>0</td>\n",
              "      <td>0</td>\n",
              "      <td>1</td>\n",
              "      <td>0</td>\n",
              "    </tr>\n",
              "    <tr>\n",
              "      <th>3</th>\n",
              "      <td>0</td>\n",
              "      <td>0</td>\n",
              "      <td>0</td>\n",
              "      <td>0</td>\n",
              "      <td>0</td>\n",
              "      <td>1</td>\n",
              "      <td>0</td>\n",
              "    </tr>\n",
              "    <tr>\n",
              "      <th>4</th>\n",
              "      <td>0</td>\n",
              "      <td>0</td>\n",
              "      <td>0</td>\n",
              "      <td>0</td>\n",
              "      <td>0</td>\n",
              "      <td>1</td>\n",
              "      <td>0</td>\n",
              "    </tr>\n",
              "    <tr>\n",
              "      <th>5</th>\n",
              "      <td>0</td>\n",
              "      <td>0</td>\n",
              "      <td>0</td>\n",
              "      <td>0</td>\n",
              "      <td>0</td>\n",
              "      <td>1</td>\n",
              "      <td>0</td>\n",
              "    </tr>\n",
              "    <tr>\n",
              "      <th>6</th>\n",
              "      <td>0</td>\n",
              "      <td>0</td>\n",
              "      <td>0</td>\n",
              "      <td>0</td>\n",
              "      <td>0</td>\n",
              "      <td>1</td>\n",
              "      <td>0</td>\n",
              "    </tr>\n",
              "    <tr>\n",
              "      <th>7</th>\n",
              "      <td>0</td>\n",
              "      <td>0</td>\n",
              "      <td>0</td>\n",
              "      <td>0</td>\n",
              "      <td>0</td>\n",
              "      <td>1</td>\n",
              "      <td>0</td>\n",
              "    </tr>\n",
              "    <tr>\n",
              "      <th>8</th>\n",
              "      <td>0</td>\n",
              "      <td>0</td>\n",
              "      <td>0</td>\n",
              "      <td>0</td>\n",
              "      <td>0</td>\n",
              "      <td>1</td>\n",
              "      <td>0</td>\n",
              "    </tr>\n",
              "  </tbody>\n",
              "</table>\n",
              "</div>"
            ],
            "text/plain": [
              "   BARBUNYA  BOMBAY  CALI  DERMASON  HOROZ  SEKER  SIRA\n",
              "0         0       0     0         0      0      1     0\n",
              "1         0       0     0         0      0      1     0\n",
              "2         0       0     0         0      0      1     0\n",
              "3         0       0     0         0      0      1     0\n",
              "4         0       0     0         0      0      1     0\n",
              "5         0       0     0         0      0      1     0\n",
              "6         0       0     0         0      0      1     0\n",
              "7         0       0     0         0      0      1     0\n",
              "8         0       0     0         0      0      1     0"
            ]
          },
          "metadata": {},
          "execution_count": 6
        }
      ]
    },
    {
      "cell_type": "code",
      "metadata": {
        "id": "8wNCEIxARxrZ",
        "colab": {
          "base_uri": "https://localhost:8080/"
        },
        "outputId": "1aec381e-ea38-4af6-fd02-71a9391fa95e"
      },
      "source": [
        "X_train, X_test, y_train, y_test = train_test_split(X, y, test_size=0.3, random_state=123)\n",
        "print('Cumprimento da dimensão matriz \"X\" correspondente: ', X.shape)\n",
        "print('Cumprimento da dimensão matriz \"y\" correspondente: ', y.shape)"
      ],
      "execution_count": null,
      "outputs": [
        {
          "output_type": "stream",
          "name": "stdout",
          "text": [
            "Cumprimento da dimensão matriz \"X\" correspondente:  (13611, 17)\n",
            "Cumprimento da dimensão matriz \"y\" correspondente:  (13611, 7)\n"
          ]
        }
      ]
    },
    {
      "cell_type": "code",
      "metadata": {
        "id": "CIZaOTcbU7Oq",
        "colab": {
          "base_uri": "https://localhost:8080/"
        },
        "outputId": "fe985c59-4f69-432e-b6c6-1766b8d9f76b"
      },
      "source": [
        "model = keras.Sequential([layers.Dense(20, activation='relu', input_shape=[X.shape[1]]),\n",
        "                          layers.Dense(10, activation='relu'),\n",
        "                          # layers.Dense(10, activation='relu'),\n",
        "                          layers.Dense(y.shape[1], activation='sigmoid'),])\n",
        "model.summary()"
      ],
      "execution_count": null,
      "outputs": [
        {
          "output_type": "stream",
          "name": "stdout",
          "text": [
            "Model: \"sequential\"\n",
            "_________________________________________________________________\n",
            " Layer (type)                Output Shape              Param #   \n",
            "=================================================================\n",
            " dense (Dense)               (None, 20)                360       \n",
            "                                                                 \n",
            " dense_1 (Dense)             (None, 10)                210       \n",
            "                                                                 \n",
            " dense_2 (Dense)             (None, 7)                 77        \n",
            "                                                                 \n",
            "=================================================================\n",
            "Total params: 647\n",
            "Trainable params: 647\n",
            "Non-trainable params: 0\n",
            "_________________________________________________________________\n"
          ]
        }
      ]
    },
    {
      "cell_type": "code",
      "metadata": {
        "id": "WWhf9N0Ven_1"
      },
      "source": [
        "model.compile(loss='categorical_crossentropy', optimizer='adam', metrics=['accuracy'])"
      ],
      "execution_count": null,
      "outputs": []
    },
    {
      "cell_type": "code",
      "metadata": {
        "id": "IvFy5IDHfjv2",
        "colab": {
          "base_uri": "https://localhost:8080/"
        },
        "outputId": "c600eafe-d445-403a-ccf9-85ff45539639"
      },
      "source": [
        "history = model.fit(\n",
        "    X_train, y_train,\n",
        "    batch_size=32,\n",
        "    validation_split=0.4,\n",
        "    epochs=10,\n",
        "    verbose=1,)"
      ],
      "execution_count": null,
      "outputs": [
        {
          "output_type": "stream",
          "name": "stdout",
          "text": [
            "Epoch 1/10\n",
            "179/179 [==============================] - 1s 4ms/step - loss: 1.3236 - accuracy: 0.5537 - val_loss: 0.7076 - val_accuracy: 0.7539\n",
            "Epoch 2/10\n",
            "179/179 [==============================] - 0s 3ms/step - loss: 0.4936 - accuracy: 0.8216 - val_loss: 0.3702 - val_accuracy: 0.8633\n",
            "Epoch 3/10\n",
            "179/179 [==============================] - 0s 3ms/step - loss: 0.2961 - accuracy: 0.8940 - val_loss: 0.2589 - val_accuracy: 0.9008\n",
            "Epoch 4/10\n",
            "179/179 [==============================] - 0s 3ms/step - loss: 0.2051 - accuracy: 0.9374 - val_loss: 0.1783 - val_accuracy: 0.9515\n",
            "Epoch 5/10\n",
            "179/179 [==============================] - 0s 3ms/step - loss: 0.1290 - accuracy: 0.9731 - val_loss: 0.1109 - val_accuracy: 0.9745\n",
            "Epoch 6/10\n",
            "179/179 [==============================] - 1s 4ms/step - loss: 0.0791 - accuracy: 0.9839 - val_loss: 0.0775 - val_accuracy: 0.9824\n",
            "Epoch 7/10\n",
            "179/179 [==============================] - 0s 3ms/step - loss: 0.0573 - accuracy: 0.9865 - val_loss: 0.0644 - val_accuracy: 0.9822\n",
            "Epoch 8/10\n",
            "179/179 [==============================] - 0s 3ms/step - loss: 0.0470 - accuracy: 0.9867 - val_loss: 0.0557 - val_accuracy: 0.9845\n",
            "Epoch 9/10\n",
            "179/179 [==============================] - 0s 3ms/step - loss: 0.0403 - accuracy: 0.9883 - val_loss: 0.0501 - val_accuracy: 0.9856\n",
            "Epoch 10/10\n",
            "179/179 [==============================] - 0s 3ms/step - loss: 0.0361 - accuracy: 0.9890 - val_loss: 0.0454 - val_accuracy: 0.9858\n"
          ]
        }
      ]
    },
    {
      "cell_type": "code",
      "metadata": {
        "id": "nkSkxOjyflk_"
      },
      "source": [
        "def display_acc_hist(history):\n",
        "  history_df = pd.DataFrame(history.history)\n",
        "  display(history_df.head())\n",
        "  # Start the plot at epoch 0\n",
        "  history_df.loc[0:, ['loss', 'val_loss']].plot()\n",
        "  history_df.loc[0:, ['accuracy', 'val_accuracy']].plot()\n",
        "\n",
        "  print((\"Best Validation Loss: {:0.4f}\" +\\\n",
        "        \"\\nBest Validation Accuracy: {:0.4f}\")\\\n",
        "        .format(history_df['val_loss'].min(),\n",
        "        history_df['val_accuracy'].max()))\n",
        "  return"
      ],
      "execution_count": null,
      "outputs": []
    },
    {
      "cell_type": "code",
      "metadata": {
        "colab": {
          "base_uri": "https://localhost:8080/",
          "height": 737
        },
        "id": "mMcHcaFbfy-R",
        "outputId": "cb965699-d078-4a05-d3d1-f4350a694ff3"
      },
      "source": [
        "display_acc_hist(history)"
      ],
      "execution_count": null,
      "outputs": [
        {
          "output_type": "display_data",
          "data": {
            "text/html": [
              "<div>\n",
              "<style scoped>\n",
              "    .dataframe tbody tr th:only-of-type {\n",
              "        vertical-align: middle;\n",
              "    }\n",
              "\n",
              "    .dataframe tbody tr th {\n",
              "        vertical-align: top;\n",
              "    }\n",
              "\n",
              "    .dataframe thead th {\n",
              "        text-align: right;\n",
              "    }\n",
              "</style>\n",
              "<table border=\"1\" class=\"dataframe\">\n",
              "  <thead>\n",
              "    <tr style=\"text-align: right;\">\n",
              "      <th></th>\n",
              "      <th>loss</th>\n",
              "      <th>accuracy</th>\n",
              "      <th>val_loss</th>\n",
              "      <th>val_accuracy</th>\n",
              "    </tr>\n",
              "  </thead>\n",
              "  <tbody>\n",
              "    <tr>\n",
              "      <th>0</th>\n",
              "      <td>1.323621</td>\n",
              "      <td>0.553709</td>\n",
              "      <td>0.707609</td>\n",
              "      <td>0.753870</td>\n",
              "    </tr>\n",
              "    <tr>\n",
              "      <th>1</th>\n",
              "      <td>0.493591</td>\n",
              "      <td>0.821554</td>\n",
              "      <td>0.370183</td>\n",
              "      <td>0.863290</td>\n",
              "    </tr>\n",
              "    <tr>\n",
              "      <th>2</th>\n",
              "      <td>0.296104</td>\n",
              "      <td>0.893982</td>\n",
              "      <td>0.258927</td>\n",
              "      <td>0.900813</td>\n",
              "    </tr>\n",
              "    <tr>\n",
              "      <th>3</th>\n",
              "      <td>0.205118</td>\n",
              "      <td>0.937369</td>\n",
              "      <td>0.178348</td>\n",
              "      <td>0.951456</td>\n",
              "    </tr>\n",
              "    <tr>\n",
              "      <th>4</th>\n",
              "      <td>0.128958</td>\n",
              "      <td>0.973058</td>\n",
              "      <td>0.110925</td>\n",
              "      <td>0.974547</td>\n",
              "    </tr>\n",
              "  </tbody>\n",
              "</table>\n",
              "</div>"
            ],
            "text/plain": [
              "       loss  accuracy  val_loss  val_accuracy\n",
              "0  1.323621  0.553709  0.707609      0.753870\n",
              "1  0.493591  0.821554  0.370183      0.863290\n",
              "2  0.296104  0.893982  0.258927      0.900813\n",
              "3  0.205118  0.937369  0.178348      0.951456\n",
              "4  0.128958  0.973058  0.110925      0.974547"
            ]
          },
          "metadata": {}
        },
        {
          "output_type": "stream",
          "name": "stdout",
          "text": [
            "Best Validation Loss: 0.0454\n",
            "Best Validation Accuracy: 0.9858\n"
          ]
        },
        {
          "output_type": "display_data",
          "data": {
            "image/png": "[encoded data removed]",
            "text/plain": [
              "<Figure size 432x288 with 1 Axes>"
            ]
          },
          "metadata": {
            "needs_background": "light"
          }
        },
        {
          "output_type": "display_data",
          "data": {
            "image/png": "[encoded data removed]",
            "text/plain": [
              "<Figure size 432x288 with 1 Axes>"
            ]
          },
          "metadata": {
            "needs_background": "light"
          }
        }
      ]
    },
    {
      "cell_type": "code",
      "metadata": {
        "colab": {
          "base_uri": "https://localhost:8080/"
        },
        "id": "Us9qAFD5f1CG",
        "outputId": "c155085c-9945-4b53-a4d0-9927324718c6"
      },
      "source": [
        "model.predict(X_test)[0:5]"
      ],
      "execution_count": null,
      "outputs": [
        {
          "output_type": "execute_result",
          "data": {
            "text/plain": [
              "array([[2.9432178e-03, 2.6056819e-05, 2.0960927e-02, 9.9999934e-01,\n",
              "        1.3370931e-02, 4.1673362e-01, 9.9940336e-01],\n",
              "       [3.5976660e-01, 2.0431846e-02, 2.1566603e-01, 8.8427275e-01,\n",
              "        1.8910888e-01, 1.4070749e-01, 9.9903548e-01],\n",
              "       [9.9906158e-01, 9.9996889e-01, 9.8349762e-01, 2.4472723e-07,\n",
              "        1.6349554e-03, 9.9861717e-01, 6.8174857e-01],\n",
              "       [8.1890917e-01, 3.4512475e-01, 6.0322803e-01, 8.4936619e-04,\n",
              "        6.7799062e-02, 9.9999821e-01, 8.4391594e-01],\n",
              "       [2.4014235e-02, 8.8341381e-05, 1.5207678e-02, 9.9999958e-01,\n",
              "        1.0810822e-02, 7.6698065e-03, 9.9986458e-01]], dtype=float32)"
            ]
          },
          "metadata": {},
          "execution_count": 13
        }
      ]
    },
    {
      "cell_type": "code",
      "metadata": {
        "id": "knqLHvejehEC",
        "colab": {
          "base_uri": "https://localhost:8080/",
          "height": 206
        },
        "outputId": "84ffbd40-c4d5-4721-99d4-5a88558f3773"
      },
      "source": [
        "y_test.head(5)"
      ],
      "execution_count": null,
      "outputs": [
        {
          "output_type": "execute_result",
          "data": {
            "text/html": [
              "<div>\n",
              "<style scoped>\n",
              "    .dataframe tbody tr th:only-of-type {\n",
              "        vertical-align: middle;\n",
              "    }\n",
              "\n",
              "    .dataframe tbody tr th {\n",
              "        vertical-align: top;\n",
              "    }\n",
              "\n",
              "    .dataframe thead th {\n",
              "        text-align: right;\n",
              "    }\n",
              "</style>\n",
              "<table border=\"1\" class=\"dataframe\">\n",
              "  <thead>\n",
              "    <tr style=\"text-align: right;\">\n",
              "      <th></th>\n",
              "      <th>BARBUNYA</th>\n",
              "      <th>BOMBAY</th>\n",
              "      <th>CALI</th>\n",
              "      <th>DERMASON</th>\n",
              "      <th>HOROZ</th>\n",
              "      <th>SEKER</th>\n",
              "      <th>SIRA</th>\n",
              "    </tr>\n",
              "  </thead>\n",
              "  <tbody>\n",
              "    <tr>\n",
              "      <th>10676</th>\n",
              "      <td>0</td>\n",
              "      <td>0</td>\n",
              "      <td>0</td>\n",
              "      <td>1</td>\n",
              "      <td>0</td>\n",
              "      <td>0</td>\n",
              "      <td>0</td>\n",
              "    </tr>\n",
              "    <tr>\n",
              "      <th>9185</th>\n",
              "      <td>0</td>\n",
              "      <td>0</td>\n",
              "      <td>0</td>\n",
              "      <td>0</td>\n",
              "      <td>0</td>\n",
              "      <td>0</td>\n",
              "      <td>1</td>\n",
              "    </tr>\n",
              "    <tr>\n",
              "      <th>3357</th>\n",
              "      <td>0</td>\n",
              "      <td>1</td>\n",
              "      <td>0</td>\n",
              "      <td>0</td>\n",
              "      <td>0</td>\n",
              "      <td>0</td>\n",
              "      <td>0</td>\n",
              "    </tr>\n",
              "    <tr>\n",
              "      <th>806</th>\n",
              "      <td>0</td>\n",
              "      <td>0</td>\n",
              "      <td>0</td>\n",
              "      <td>0</td>\n",
              "      <td>0</td>\n",
              "      <td>1</td>\n",
              "      <td>0</td>\n",
              "    </tr>\n",
              "    <tr>\n",
              "      <th>13460</th>\n",
              "      <td>0</td>\n",
              "      <td>0</td>\n",
              "      <td>0</td>\n",
              "      <td>1</td>\n",
              "      <td>0</td>\n",
              "      <td>0</td>\n",
              "      <td>0</td>\n",
              "    </tr>\n",
              "  </tbody>\n",
              "</table>\n",
              "</div>"
            ],
            "text/plain": [
              "       BARBUNYA  BOMBAY  CALI  DERMASON  HOROZ  SEKER  SIRA\n",
              "10676         0       0     0         1      0      0     0\n",
              "9185          0       0     0         0      0      0     1\n",
              "3357          0       1     0         0      0      0     0\n",
              "806           0       0     0         0      0      1     0\n",
              "13460         0       0     0         1      0      0     0"
            ]
          },
          "metadata": {},
          "execution_count": 14
        }
      ]
    },
    {
      "cell_type": "code",
      "metadata": {
        "colab": {
          "base_uri": "https://localhost:8080/"
        },
        "id": "FpK8BrdUpEL4",
        "outputId": "c107612b-80b5-496d-e482-8ecf68a386cc"
      },
      "source": [
        "y_pred = np.argmax(model.predict(X_test), axis=1)\n",
        "y_test = np.argmax(y_test.values, axis=1)\n",
        "\n",
        "def print_results(y_test, y_pred):\n",
        "  print('Matriz de Confusão: \\n' , confusion_matrix(y_test, y_pred))\n",
        "  print(classification_report(y_test, y_pred))\n",
        "  print('Acuracidade: ' , accuracy_score(y_test, y_pred))\n",
        "  return\n",
        "  \n",
        "print_results(y_test, y_pred)"
      ],
      "execution_count": null,
      "outputs": [
        {
          "output_type": "stream",
          "name": "stdout",
          "text": [
            "Matriz de Confusão: \n",
            " [[ 377    0   13    0    0    5    0]\n",
            " [   0  155    0    0    0    0    0]\n",
            " [   7    1  474    0    4    3    0]\n",
            " [   0    0    0 1038    0    0    0]\n",
            " [   0    0    5    0  576    0    3]\n",
            " [  13    0    0    0    1  610    0]\n",
            " [   0    0    0    0    0    0  799]]\n",
            "              precision    recall  f1-score   support\n",
            "\n",
            "           0       0.95      0.95      0.95       395\n",
            "           1       0.99      1.00      1.00       155\n",
            "           2       0.96      0.97      0.97       489\n",
            "           3       1.00      1.00      1.00      1038\n",
            "           4       0.99      0.99      0.99       584\n",
            "           5       0.99      0.98      0.98       624\n",
            "           6       1.00      1.00      1.00       799\n",
            "\n",
            "    accuracy                           0.99      4084\n",
            "   macro avg       0.98      0.98      0.98      4084\n",
            "weighted avg       0.99      0.99      0.99      4084\n",
            "\n",
            "Acuracidade:  0.9865328109696376\n"
          ]
        }
      ]
    },
    {
      "cell_type": "markdown",
      "metadata": {
        "id": "HqCa00MZU7RG"
      },
      "source": [
        "# CONCLUSÃO\n",
        "Foi obtido nesse cenário uma acurácia de 98,68%, indicando que o modelo se adaptou bem aos dados."
      ]
    }
  ]
}