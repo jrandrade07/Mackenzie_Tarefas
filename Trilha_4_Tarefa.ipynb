{
  "nbformat": 4,
  "nbformat_minor": 0,
  "metadata": {
    "colab": {
      "name": "Trilha 4 - Tarefa.ipynb",
      "provenance": [],
      "authorship_tag": "ABX9TyNw4TlvU9Hu9i3Ah1WuSioD",
      "include_colab_link": true
    },
    "kernelspec": {
      "name": "python3",
      "display_name": "Python 3"
    },
    "language_info": {
      "name": "python"
    }
  },
  "cells": [
    {
      "cell_type": "markdown",
      "metadata": {
        "id": "view-in-github",
        "colab_type": "text"
      },
      "source": [
        "<a href=\"https://colab.research.google.com/github/jrandrade07/Mackenzie_Tarefas/blob/main/Trilha_4_Tarefa.ipynb\" target=\"_parent\"><img src=\"https://colab.research.google.com/assets/colab-badge.svg\" alt=\"Open In Colab\"/></a>"
      ]
    },
    {
      "cell_type": "code",
      "metadata": {
        "id": "6xLMuBF8bFw6",
        "colab": {
          "base_uri": "https://localhost:8080/"
        },
        "outputId": "d02fe147-45a3-485c-e8f1-b47eb6620107"
      },
      "source": [
        "pip install pandas_ods_reader"
      ],
      "execution_count": null,
      "outputs": [
        {
          "output_type": "stream",
          "name": "stdout",
          "text": [
            "Requirement already satisfied: pandas_ods_reader in /usr/local/lib/python3.7/dist-packages (0.1.4)\n",
            "Requirement already satisfied: importlib_metadata<5.0.0,>=4.8.1 in /usr/local/lib/python3.7/dist-packages (from pandas_ods_reader) (4.8.2)\n",
            "Requirement already satisfied: lxml<5.0.0,>=4.6.3 in /usr/local/lib/python3.7/dist-packages (from pandas_ods_reader) (4.6.4)\n",
            "Requirement already satisfied: ezodf<0.4.0,>=0.3.2 in /usr/local/lib/python3.7/dist-packages (from pandas_ods_reader) (0.3.2)\n",
            "Requirement already satisfied: pandas<2.0.0,>=1.0.0 in /usr/local/lib/python3.7/dist-packages (from pandas_ods_reader) (1.1.5)\n",
            "Requirement already satisfied: zipp>=0.5 in /usr/local/lib/python3.7/dist-packages (from importlib_metadata<5.0.0,>=4.8.1->pandas_ods_reader) (3.6.0)\n",
            "Requirement already satisfied: typing-extensions>=3.6.4 in /usr/local/lib/python3.7/dist-packages (from importlib_metadata<5.0.0,>=4.8.1->pandas_ods_reader) (3.10.0.2)\n",
            "Requirement already satisfied: numpy>=1.15.4 in /usr/local/lib/python3.7/dist-packages (from pandas<2.0.0,>=1.0.0->pandas_ods_reader) (1.19.5)\n",
            "Requirement already satisfied: pytz>=2017.2 in /usr/local/lib/python3.7/dist-packages (from pandas<2.0.0,>=1.0.0->pandas_ods_reader) (2018.9)\n",
            "Requirement already satisfied: python-dateutil>=2.7.3 in /usr/local/lib/python3.7/dist-packages (from pandas<2.0.0,>=1.0.0->pandas_ods_reader) (2.8.2)\n",
            "Requirement already satisfied: six>=1.5 in /usr/local/lib/python3.7/dist-packages (from python-dateutil>=2.7.3->pandas<2.0.0,>=1.0.0->pandas_ods_reader) (1.15.0)\n"
          ]
        }
      ]
    },
    {
      "cell_type": "markdown",
      "metadata": {
        "id": "jpweMLXcd5NK"
      },
      "source": [
        "# IMPORTANDO BIBLIOTECAS"
      ]
    },
    {
      "cell_type": "code",
      "metadata": {
        "id": "fBiZXWKZonMY"
      },
      "source": [
        "import pandas as pd\n",
        "import matplotlib.pyplot as plt\n",
        "import numpy as np\n",
        "from pandas_ods_reader import read_ods\n",
        "from sklearn.decomposition import PCA, KernelPCA\n",
        "from sklearn.preprocessing import StandardScaler, KernelCenterer\n",
        "from sklearn.utils import extmath\n",
        "from sklearn.metrics.pairwise import euclidean_distances"
      ],
      "execution_count": null,
      "outputs": []
    },
    {
      "cell_type": "markdown",
      "metadata": {
        "id": "UqAvMsj6eBVb"
      },
      "source": [
        "# CARREGANDO DATASET"
      ]
    },
    {
      "cell_type": "code",
      "metadata": {
        "colab": {
          "base_uri": "https://localhost:8080/",
          "height": 597
        },
        "id": "YYCe87CpjTOg",
        "outputId": "ddf33d83-415b-4573-9d55-d3494c461a6c"
      },
      "source": [
        "df = read_ods('APR NÃO SUP_Tarefa_Trilha 4.ods')\n",
        "df"
      ],
      "execution_count": null,
      "outputs": [
        {
          "output_type": "execute_result",
          "data": {
            "text/html": [
              "<div>\n",
              "<style scoped>\n",
              "    .dataframe tbody tr th:only-of-type {\n",
              "        vertical-align: middle;\n",
              "    }\n",
              "\n",
              "    .dataframe tbody tr th {\n",
              "        vertical-align: top;\n",
              "    }\n",
              "\n",
              "    .dataframe thead th {\n",
              "        text-align: right;\n",
              "    }\n",
              "</style>\n",
              "<table border=\"1\" class=\"dataframe\">\n",
              "  <thead>\n",
              "    <tr style=\"text-align: right;\">\n",
              "      <th></th>\n",
              "      <th>GRANDE_REG</th>\n",
              "      <th>COD_UF</th>\n",
              "      <th>SIGLA_UF</th>\n",
              "      <th>COD</th>\n",
              "      <th>NOME</th>\n",
              "      <th>TIPO</th>\n",
              "      <th>COD_CAT_ASSOC</th>\n",
              "      <th>CAT_ASSOC</th>\n",
              "      <th>COD_MUN</th>\n",
              "      <th>NOME_MUN</th>\n",
              "      <th>LEG</th>\n",
              "      <th>DATA</th>\n",
              "    </tr>\n",
              "  </thead>\n",
              "  <tbody>\n",
              "    <tr>\n",
              "      <th>0</th>\n",
              "      <td>Centro-Oeste</td>\n",
              "      <td>53.0</td>\n",
              "      <td>DF</td>\n",
              "      <td>5301.0</td>\n",
              "      <td>Região Integrada de Desenvolvimento do Distrit...</td>\n",
              "      <td>RIDE</td>\n",
              "      <td>530101</td>\n",
              "      <td>NÃO TEM</td>\n",
              "      <td>5300108.0</td>\n",
              "      <td>BRASÍLIA</td>\n",
              "      <td>DECRETO Nº 7469 - 04.05.2011 Regulamenta a Lei...</td>\n",
              "      <td>1998-02-19T00:00:00</td>\n",
              "    </tr>\n",
              "    <tr>\n",
              "      <th>1</th>\n",
              "      <td>Centro-Oeste</td>\n",
              "      <td>52.0</td>\n",
              "      <td>GO</td>\n",
              "      <td>5202.0</td>\n",
              "      <td>Região Integrada de Desenvolvimento do Distrit...</td>\n",
              "      <td>RIDE</td>\n",
              "      <td>520201</td>\n",
              "      <td>NÃO TEM</td>\n",
              "      <td>5200100.0</td>\n",
              "      <td>ABADIÂNIA</td>\n",
              "      <td>DECRETO Nº 7469 - 04.05.2011 Regulamenta a Lei...</td>\n",
              "      <td>1998-02-19T00:00:00</td>\n",
              "    </tr>\n",
              "    <tr>\n",
              "      <th>2</th>\n",
              "      <td>Centro-Oeste</td>\n",
              "      <td>52.0</td>\n",
              "      <td>GO</td>\n",
              "      <td>5202.0</td>\n",
              "      <td>Região Integrada de Desenvolvimento do Distrit...</td>\n",
              "      <td>RIDE</td>\n",
              "      <td>520201</td>\n",
              "      <td>NÃO TEM</td>\n",
              "      <td>5200175.0</td>\n",
              "      <td>ÁGUA FRIA DE GOIÁS</td>\n",
              "      <td>DECRETO Nº 7469 - 04.05.2011 Regulamenta a Lei...</td>\n",
              "      <td>1998-02-19T00:00:00</td>\n",
              "    </tr>\n",
              "    <tr>\n",
              "      <th>3</th>\n",
              "      <td>Centro-Oeste</td>\n",
              "      <td>52.0</td>\n",
              "      <td>GO</td>\n",
              "      <td>5202.0</td>\n",
              "      <td>Região Integrada de Desenvolvimento do Distrit...</td>\n",
              "      <td>RIDE</td>\n",
              "      <td>520201</td>\n",
              "      <td>NÃO TEM</td>\n",
              "      <td>5200258.0</td>\n",
              "      <td>ÁGUAS LINDAS DE GOIÁS</td>\n",
              "      <td>DECRETO Nº 7469 - 04.05.2011 Regulamenta a Lei...</td>\n",
              "      <td>1998-02-19T00:00:00</td>\n",
              "    </tr>\n",
              "    <tr>\n",
              "      <th>4</th>\n",
              "      <td>Centro-Oeste</td>\n",
              "      <td>52.0</td>\n",
              "      <td>GO</td>\n",
              "      <td>5202.0</td>\n",
              "      <td>Região Integrada de Desenvolvimento do Distrit...</td>\n",
              "      <td>RIDE</td>\n",
              "      <td>520201</td>\n",
              "      <td>NÃO TEM</td>\n",
              "      <td>5200308.0</td>\n",
              "      <td>ALEXÂNIA</td>\n",
              "      <td>DECRETO Nº 7469 - 04.05.2011 Regulamenta a Lei...</td>\n",
              "      <td>1998-02-19T00:00:00</td>\n",
              "    </tr>\n",
              "    <tr>\n",
              "      <th>...</th>\n",
              "      <td>...</td>\n",
              "      <td>...</td>\n",
              "      <td>...</td>\n",
              "      <td>...</td>\n",
              "      <td>...</td>\n",
              "      <td>...</td>\n",
              "      <td>...</td>\n",
              "      <td>...</td>\n",
              "      <td>...</td>\n",
              "      <td>...</td>\n",
              "      <td>...</td>\n",
              "      <td>...</td>\n",
              "    </tr>\n",
              "    <tr>\n",
              "      <th>1415</th>\n",
              "      <td>Sul</td>\n",
              "      <td>42.0</td>\n",
              "      <td>SC</td>\n",
              "      <td>4202.0</td>\n",
              "      <td>Região Metropolitana do Vale do Itajaí</td>\n",
              "      <td>RM</td>\n",
              "      <td>420201</td>\n",
              "      <td>Núcleo Metropolitano</td>\n",
              "      <td>4202404.0</td>\n",
              "      <td>BLUMENAU</td>\n",
              "      <td>Lei Complementar 162</td>\n",
              "      <td>1998-01-06T00:00:00</td>\n",
              "    </tr>\n",
              "    <tr>\n",
              "      <th>1416</th>\n",
              "      <td>Sul</td>\n",
              "      <td>42.0</td>\n",
              "      <td>SC</td>\n",
              "      <td>4202.0</td>\n",
              "      <td>Região Metropolitana do Vale do Itajaí</td>\n",
              "      <td>RM</td>\n",
              "      <td>420201</td>\n",
              "      <td>Núcleo Metropolitano</td>\n",
              "      <td>4205902.0</td>\n",
              "      <td>GASPAR</td>\n",
              "      <td>Lei Complementar 162</td>\n",
              "      <td>1998-01-06T00:00:00</td>\n",
              "    </tr>\n",
              "    <tr>\n",
              "      <th>1417</th>\n",
              "      <td>Sul</td>\n",
              "      <td>42.0</td>\n",
              "      <td>SC</td>\n",
              "      <td>4202.0</td>\n",
              "      <td>Região Metropolitana do Vale do Itajaí</td>\n",
              "      <td>RM</td>\n",
              "      <td>420201</td>\n",
              "      <td>Núcleo Metropolitano</td>\n",
              "      <td>4207502.0</td>\n",
              "      <td>INDAIAL</td>\n",
              "      <td>Lei Complementar 162</td>\n",
              "      <td>1998-01-06T00:00:00</td>\n",
              "    </tr>\n",
              "    <tr>\n",
              "      <th>1418</th>\n",
              "      <td>Sul</td>\n",
              "      <td>42.0</td>\n",
              "      <td>SC</td>\n",
              "      <td>4202.0</td>\n",
              "      <td>Região Metropolitana do Vale do Itajaí</td>\n",
              "      <td>RM</td>\n",
              "      <td>420201</td>\n",
              "      <td>Núcleo Metropolitano</td>\n",
              "      <td>4213203.0</td>\n",
              "      <td>POMERODE</td>\n",
              "      <td>Lei Complementar 162</td>\n",
              "      <td>1998-01-06T00:00:00</td>\n",
              "    </tr>\n",
              "    <tr>\n",
              "      <th>1419</th>\n",
              "      <td>Sul</td>\n",
              "      <td>42.0</td>\n",
              "      <td>SC</td>\n",
              "      <td>4202.0</td>\n",
              "      <td>Região Metropolitana do Vale do Itajaí</td>\n",
              "      <td>RM</td>\n",
              "      <td>420201</td>\n",
              "      <td>Núcleo Metropolitano</td>\n",
              "      <td>4218202.0</td>\n",
              "      <td>TIMBÓ</td>\n",
              "      <td>Lei Complementar 162</td>\n",
              "      <td>1998-01-06T00:00:00</td>\n",
              "    </tr>\n",
              "  </tbody>\n",
              "</table>\n",
              "<p>1420 rows × 12 columns</p>\n",
              "</div>"
            ],
            "text/plain": [
              "        GRANDE_REG  ...                 DATA\n",
              "0     Centro-Oeste  ...  1998-02-19T00:00:00\n",
              "1     Centro-Oeste  ...  1998-02-19T00:00:00\n",
              "2     Centro-Oeste  ...  1998-02-19T00:00:00\n",
              "3     Centro-Oeste  ...  1998-02-19T00:00:00\n",
              "4     Centro-Oeste  ...  1998-02-19T00:00:00\n",
              "...            ...  ...                  ...\n",
              "1415           Sul  ...  1998-01-06T00:00:00\n",
              "1416           Sul  ...  1998-01-06T00:00:00\n",
              "1417           Sul  ...  1998-01-06T00:00:00\n",
              "1418           Sul  ...  1998-01-06T00:00:00\n",
              "1419           Sul  ...  1998-01-06T00:00:00\n",
              "\n",
              "[1420 rows x 12 columns]"
            ]
          },
          "metadata": {},
          "execution_count": 3
        }
      ]
    },
    {
      "cell_type": "markdown",
      "metadata": {
        "id": "FuDv9qjJef6l"
      },
      "source": [
        "# EXCLUINDO COLUNAS E DISCRETIZANDO OS DADOS CATEGORICOS\n",
        "#### O dataset possui dados categóricos e números, havendo relação entre:  COD_UF com SIGLA_UF, COD com NOME, COD_CAT_ASSOC com CAT_ASSOC e COD_MUN com NOME_MUN, conforme pode ser observado no dicionário do dataset.\n",
        "### Embora existam dados números relacionados a uma categoria, conforme demostrado acima, serão excluídos essas colunas, mantendo-se os dados categóricos que serão discretizados, considerando que foi observado em teste anterior a existência de uma string na coluna COD_CAT_ASSOC, bem como será excluido o campo de data, uma vez que não será utlizada serie temporal.\n"
      ]
    },
    {
      "cell_type": "code",
      "metadata": {
        "id": "qN6GeejFyu86",
        "colab": {
          "base_uri": "https://localhost:8080/",
          "height": 424
        },
        "outputId": "4dd4fd90-6b72-4b35-cb44-21bfd3f2b494"
      },
      "source": [
        "df = df.drop(['COD_UF','COD','COD_CAT_ASSOC','COD_MUN','DATA'], axis=1)\n",
        "df"
      ],
      "execution_count": null,
      "outputs": [
        {
          "output_type": "execute_result",
          "data": {
            "text/html": [
              "<div>\n",
              "<style scoped>\n",
              "    .dataframe tbody tr th:only-of-type {\n",
              "        vertical-align: middle;\n",
              "    }\n",
              "\n",
              "    .dataframe tbody tr th {\n",
              "        vertical-align: top;\n",
              "    }\n",
              "\n",
              "    .dataframe thead th {\n",
              "        text-align: right;\n",
              "    }\n",
              "</style>\n",
              "<table border=\"1\" class=\"dataframe\">\n",
              "  <thead>\n",
              "    <tr style=\"text-align: right;\">\n",
              "      <th></th>\n",
              "      <th>GRANDE_REG</th>\n",
              "      <th>SIGLA_UF</th>\n",
              "      <th>NOME</th>\n",
              "      <th>TIPO</th>\n",
              "      <th>CAT_ASSOC</th>\n",
              "      <th>NOME_MUN</th>\n",
              "      <th>LEG</th>\n",
              "    </tr>\n",
              "  </thead>\n",
              "  <tbody>\n",
              "    <tr>\n",
              "      <th>0</th>\n",
              "      <td>Centro-Oeste</td>\n",
              "      <td>DF</td>\n",
              "      <td>Região Integrada de Desenvolvimento do Distrit...</td>\n",
              "      <td>RIDE</td>\n",
              "      <td>NÃO TEM</td>\n",
              "      <td>BRASÍLIA</td>\n",
              "      <td>DECRETO Nº 7469 - 04.05.2011 Regulamenta a Lei...</td>\n",
              "    </tr>\n",
              "    <tr>\n",
              "      <th>1</th>\n",
              "      <td>Centro-Oeste</td>\n",
              "      <td>GO</td>\n",
              "      <td>Região Integrada de Desenvolvimento do Distrit...</td>\n",
              "      <td>RIDE</td>\n",
              "      <td>NÃO TEM</td>\n",
              "      <td>ABADIÂNIA</td>\n",
              "      <td>DECRETO Nº 7469 - 04.05.2011 Regulamenta a Lei...</td>\n",
              "    </tr>\n",
              "    <tr>\n",
              "      <th>2</th>\n",
              "      <td>Centro-Oeste</td>\n",
              "      <td>GO</td>\n",
              "      <td>Região Integrada de Desenvolvimento do Distrit...</td>\n",
              "      <td>RIDE</td>\n",
              "      <td>NÃO TEM</td>\n",
              "      <td>ÁGUA FRIA DE GOIÁS</td>\n",
              "      <td>DECRETO Nº 7469 - 04.05.2011 Regulamenta a Lei...</td>\n",
              "    </tr>\n",
              "    <tr>\n",
              "      <th>3</th>\n",
              "      <td>Centro-Oeste</td>\n",
              "      <td>GO</td>\n",
              "      <td>Região Integrada de Desenvolvimento do Distrit...</td>\n",
              "      <td>RIDE</td>\n",
              "      <td>NÃO TEM</td>\n",
              "      <td>ÁGUAS LINDAS DE GOIÁS</td>\n",
              "      <td>DECRETO Nº 7469 - 04.05.2011 Regulamenta a Lei...</td>\n",
              "    </tr>\n",
              "    <tr>\n",
              "      <th>4</th>\n",
              "      <td>Centro-Oeste</td>\n",
              "      <td>GO</td>\n",
              "      <td>Região Integrada de Desenvolvimento do Distrit...</td>\n",
              "      <td>RIDE</td>\n",
              "      <td>NÃO TEM</td>\n",
              "      <td>ALEXÂNIA</td>\n",
              "      <td>DECRETO Nº 7469 - 04.05.2011 Regulamenta a Lei...</td>\n",
              "    </tr>\n",
              "    <tr>\n",
              "      <th>...</th>\n",
              "      <td>...</td>\n",
              "      <td>...</td>\n",
              "      <td>...</td>\n",
              "      <td>...</td>\n",
              "      <td>...</td>\n",
              "      <td>...</td>\n",
              "      <td>...</td>\n",
              "    </tr>\n",
              "    <tr>\n",
              "      <th>1415</th>\n",
              "      <td>Sul</td>\n",
              "      <td>SC</td>\n",
              "      <td>Região Metropolitana do Vale do Itajaí</td>\n",
              "      <td>RM</td>\n",
              "      <td>Núcleo Metropolitano</td>\n",
              "      <td>BLUMENAU</td>\n",
              "      <td>Lei Complementar 162</td>\n",
              "    </tr>\n",
              "    <tr>\n",
              "      <th>1416</th>\n",
              "      <td>Sul</td>\n",
              "      <td>SC</td>\n",
              "      <td>Região Metropolitana do Vale do Itajaí</td>\n",
              "      <td>RM</td>\n",
              "      <td>Núcleo Metropolitano</td>\n",
              "      <td>GASPAR</td>\n",
              "      <td>Lei Complementar 162</td>\n",
              "    </tr>\n",
              "    <tr>\n",
              "      <th>1417</th>\n",
              "      <td>Sul</td>\n",
              "      <td>SC</td>\n",
              "      <td>Região Metropolitana do Vale do Itajaí</td>\n",
              "      <td>RM</td>\n",
              "      <td>Núcleo Metropolitano</td>\n",
              "      <td>INDAIAL</td>\n",
              "      <td>Lei Complementar 162</td>\n",
              "    </tr>\n",
              "    <tr>\n",
              "      <th>1418</th>\n",
              "      <td>Sul</td>\n",
              "      <td>SC</td>\n",
              "      <td>Região Metropolitana do Vale do Itajaí</td>\n",
              "      <td>RM</td>\n",
              "      <td>Núcleo Metropolitano</td>\n",
              "      <td>POMERODE</td>\n",
              "      <td>Lei Complementar 162</td>\n",
              "    </tr>\n",
              "    <tr>\n",
              "      <th>1419</th>\n",
              "      <td>Sul</td>\n",
              "      <td>SC</td>\n",
              "      <td>Região Metropolitana do Vale do Itajaí</td>\n",
              "      <td>RM</td>\n",
              "      <td>Núcleo Metropolitano</td>\n",
              "      <td>TIMBÓ</td>\n",
              "      <td>Lei Complementar 162</td>\n",
              "    </tr>\n",
              "  </tbody>\n",
              "</table>\n",
              "<p>1420 rows × 7 columns</p>\n",
              "</div>"
            ],
            "text/plain": [
              "        GRANDE_REG  ...                                                LEG\n",
              "0     Centro-Oeste  ...  DECRETO Nº 7469 - 04.05.2011 Regulamenta a Lei...\n",
              "1     Centro-Oeste  ...  DECRETO Nº 7469 - 04.05.2011 Regulamenta a Lei...\n",
              "2     Centro-Oeste  ...  DECRETO Nº 7469 - 04.05.2011 Regulamenta a Lei...\n",
              "3     Centro-Oeste  ...  DECRETO Nº 7469 - 04.05.2011 Regulamenta a Lei...\n",
              "4     Centro-Oeste  ...  DECRETO Nº 7469 - 04.05.2011 Regulamenta a Lei...\n",
              "...            ...  ...                                                ...\n",
              "1415           Sul  ...                               Lei Complementar 162\n",
              "1416           Sul  ...                               Lei Complementar 162\n",
              "1417           Sul  ...                               Lei Complementar 162\n",
              "1418           Sul  ...                               Lei Complementar 162\n",
              "1419           Sul  ...                               Lei Complementar 162\n",
              "\n",
              "[1420 rows x 7 columns]"
            ]
          },
          "metadata": {},
          "execution_count": 4
        }
      ]
    },
    {
      "cell_type": "markdown",
      "metadata": {
        "id": "uccegbOzeM2K"
      },
      "source": [
        "# VERIFICANDO DUPLICIDADE\n",
        "Nesse cenário não foram localizadas duplicidades"
      ]
    },
    {
      "cell_type": "code",
      "metadata": {
        "colab": {
          "base_uri": "https://localhost:8080/",
          "height": 49
        },
        "id": "yRqbGRIFsYnx",
        "outputId": "ec6f3999-1094-47fc-a793-c35c6800cbee"
      },
      "source": [
        "df[df.duplicated(keep=False)]"
      ],
      "execution_count": null,
      "outputs": [
        {
          "output_type": "execute_result",
          "data": {
            "text/html": [
              "<div>\n",
              "<style scoped>\n",
              "    .dataframe tbody tr th:only-of-type {\n",
              "        vertical-align: middle;\n",
              "    }\n",
              "\n",
              "    .dataframe tbody tr th {\n",
              "        vertical-align: top;\n",
              "    }\n",
              "\n",
              "    .dataframe thead th {\n",
              "        text-align: right;\n",
              "    }\n",
              "</style>\n",
              "<table border=\"1\" class=\"dataframe\">\n",
              "  <thead>\n",
              "    <tr style=\"text-align: right;\">\n",
              "      <th></th>\n",
              "      <th>GRANDE_REG</th>\n",
              "      <th>SIGLA_UF</th>\n",
              "      <th>NOME</th>\n",
              "      <th>TIPO</th>\n",
              "      <th>CAT_ASSOC</th>\n",
              "      <th>NOME_MUN</th>\n",
              "      <th>LEG</th>\n",
              "    </tr>\n",
              "  </thead>\n",
              "  <tbody>\n",
              "  </tbody>\n",
              "</table>\n",
              "</div>"
            ],
            "text/plain": [
              "Empty DataFrame\n",
              "Columns: [GRANDE_REG, SIGLA_UF, NOME, TIPO, CAT_ASSOC, NOME_MUN, LEG]\n",
              "Index: []"
            ]
          },
          "metadata": {},
          "execution_count": 5
        }
      ]
    },
    {
      "cell_type": "markdown",
      "metadata": {
        "id": "JT0235xaRewh"
      },
      "source": [
        "#NORMALIZANDO OS DADOS"
      ]
    },
    {
      "cell_type": "code",
      "source": [
        "df = df.apply(lambda x: pd.factorize(x)[0])\n",
        "df_st = StandardScaler().fit_transform(df)\n",
        "pd.DataFrame(df_st, columns=df.columns).head(2)"
      ],
      "metadata": {
        "colab": {
          "base_uri": "https://localhost:8080/",
          "height": 112
        },
        "id": "inNj1xcGAT3w",
        "outputId": "46fce551-b597-41cc-a9d1-ab99bf88efe7"
      },
      "execution_count": null,
      "outputs": [
        {
          "output_type": "execute_result",
          "data": {
            "text/html": [
              "<div>\n",
              "<style scoped>\n",
              "    .dataframe tbody tr th:only-of-type {\n",
              "        vertical-align: middle;\n",
              "    }\n",
              "\n",
              "    .dataframe tbody tr th {\n",
              "        vertical-align: top;\n",
              "    }\n",
              "\n",
              "    .dataframe thead th {\n",
              "        text-align: right;\n",
              "    }\n",
              "</style>\n",
              "<table border=\"1\" class=\"dataframe\">\n",
              "  <thead>\n",
              "    <tr style=\"text-align: right;\">\n",
              "      <th></th>\n",
              "      <th>GRANDE_REG</th>\n",
              "      <th>SIGLA_UF</th>\n",
              "      <th>NOME</th>\n",
              "      <th>TIPO</th>\n",
              "      <th>CAT_ASSOC</th>\n",
              "      <th>NOME_MUN</th>\n",
              "      <th>LEG</th>\n",
              "    </tr>\n",
              "  </thead>\n",
              "  <tbody>\n",
              "    <tr>\n",
              "      <th>0</th>\n",
              "      <td>-1.957083</td>\n",
              "      <td>-2.030677</td>\n",
              "      <td>-1.973913</td>\n",
              "      <td>-3.349843</td>\n",
              "      <td>-0.579811</td>\n",
              "      <td>-1.703626</td>\n",
              "      <td>-1.772688</td>\n",
              "    </tr>\n",
              "    <tr>\n",
              "      <th>1</th>\n",
              "      <td>-1.957083</td>\n",
              "      <td>-1.906460</td>\n",
              "      <td>-1.973913</td>\n",
              "      <td>-3.349843</td>\n",
              "      <td>-0.579811</td>\n",
              "      <td>-1.701125</td>\n",
              "      <td>-1.772688</td>\n",
              "    </tr>\n",
              "  </tbody>\n",
              "</table>\n",
              "</div>"
            ],
            "text/plain": [
              "   GRANDE_REG  SIGLA_UF      NOME      TIPO  CAT_ASSOC  NOME_MUN       LEG\n",
              "0   -1.957083 -2.030677 -1.973913 -3.349843  -0.579811 -1.703626 -1.772688\n",
              "1   -1.957083 -1.906460 -1.973913 -3.349843  -0.579811 -1.701125 -1.772688"
            ]
          },
          "metadata": {},
          "execution_count": 6
        }
      ]
    },
    {
      "cell_type": "markdown",
      "source": [
        "As cores do mapa de calor na matriz de correlação acima representam uma forte relação linear positiva (verde), uma relação linear positiva moderada (amarela) e uma relação linear negativa (vermelho) entre as características. Tal mapa de calor da matriz de correlação fornece uma maneira visual simples de detectar grupos collineares de características."
      ],
      "metadata": {
        "id": "mDmpwnpe5hfb"
      }
    },
    {
      "cell_type": "markdown",
      "metadata": {
        "id": "rUV2Ot7tRqqg"
      },
      "source": [
        "# FAZENDO A REDUÇÃO DE DIMENSIONALIDADE LINEAR COM PCA\n",
        "\n"
      ]
    },
    {
      "cell_type": "code",
      "source": [
        "def pca(X, n_components=2):\n",
        "  \n",
        "     # Presprocessing - Standard Scaler\n",
        "    X_std = StandardScaler().fit_transform(X)\n",
        " \n",
        "     #Calculate covariance matrix\n",
        "    cov_mat = np.cov(X_std.T)\n",
        "    \n",
        "    # Get eigenvalues and eigenvectors\n",
        "    eig_vals, eig_vecs = np.linalg.eigh(cov_mat) \n",
        "    \n",
        "    # flip eigenvectors' sign to enforce deterministic output\n",
        "    eig_vecs, _ = extmath.svd_flip(eig_vecs, np.empty_like(eig_vecs).T)\n",
        "    \n",
        "    # Concatenate the eigenvectors corresponding to the highest n_components eigenvalues\n",
        "    matrix_w = np.column_stack([eig_vecs[:,-i] for i in range(1,n_components+1)])\n",
        "    \n",
        "    # Get the PCA reduced data\n",
        "    Xpca = X_std.dot(matrix_w)\n",
        " \n",
        "    return Xpca"
      ],
      "metadata": {
        "id": "IndH8Sy8CDk2"
      },
      "execution_count": null,
      "outputs": []
    },
    {
      "cell_type": "code",
      "source": [
        "pca = PCA(n_components=2)\n",
        "Xpca = pca.fit_transform(df_st)\n",
        "Xpca"
      ],
      "metadata": {
        "id": "zBNsgxfqCWJC",
        "outputId": "99a5a781-bbb2-434e-fc6d-2eff14ff6fa5",
        "colab": {
          "base_uri": "https://localhost:8080/"
        }
      },
      "execution_count": null,
      "outputs": [
        {
          "output_type": "execute_result",
          "data": {
            "text/plain": [
              "array([[ 4.68395139, -2.51449523],\n",
              "       [ 4.62885672, -2.51050539],\n",
              "       [ 4.62778856, -2.51067685],\n",
              "       ...,\n",
              "       [-3.22927339, -1.54033276],\n",
              "       [-3.23034156, -1.54050422],\n",
              "       [-3.23140972, -1.54067568]])"
            ]
          },
          "metadata": {},
          "execution_count": 8
        }
      ]
    },
    {
      "cell_type": "markdown",
      "source": [
        "# FAZENDO A REDUÇÃO DE DIMENSIONALIDADE NÃO LINEAR COM Kenel PCA"
      ],
      "metadata": {
        "id": "hm6OKM51FHnQ"
      }
    },
    {
      "cell_type": "code",
      "source": [
        "def ker_pca(X, n_components=3, gamma = 0.01):\n",
        "    \n",
        "    # Calculate euclidean distances of each pair of points in the data set\n",
        "    dist = euclidean_distances(X, X, squared=True)\n",
        "    \n",
        "    # Calculate Gaussian kernel matrix\n",
        "    K = np.exp(-gamma * dist)\n",
        "    Kc = KernelCenterer().fit_transform(K)\n",
        "    \n",
        "    # Get eigenvalues and eigenvectors of the kernel matrix\n",
        "    eig_vals, eig_vecs = np.linalg.eigh(Kc)\n",
        "    \n",
        "    # flip eigenvectors' sign to enforce deterministic output\n",
        "    eig_vecs, _ = extmath.svd_flip(eig_vecs, np.empty_like(eig_vecs).T)\n",
        "    \n",
        "    # Concatenate the eigenvectors corresponding to the highest n_components eigenvalues\n",
        "    Xkpca = np.column_stack([eig_vecs[:,-i] for i in range(1,n_components+1)])\n",
        " \n",
        "    return Xkpca"
      ],
      "metadata": {
        "id": "vdaqaH5wJg8K"
      },
      "execution_count": null,
      "outputs": []
    },
    {
      "cell_type": "code",
      "source": [
        "kpca = KernelPCA(n_components=2, kernel='rbf', gamma=0.01)\n",
        "Xkpca = kpca.fit_transform(df_st)\n",
        "Xkpca"
      ],
      "metadata": {
        "id": "BQLdKGekJlPj",
        "outputId": "1144e79a-f3ae-4664-d5cb-6e4dbc5a01ae",
        "colab": {
          "base_uri": "https://localhost:8080/"
        }
      },
      "execution_count": null,
      "outputs": [
        {
          "output_type": "execute_result",
          "data": {
            "text/plain": [
              "array([[ 0.51985384, -0.27966915],\n",
              "       [ 0.51553747, -0.27853806],\n",
              "       [ 0.51545407, -0.27854031],\n",
              "       ...,\n",
              "       [-0.38671286, -0.26184375],\n",
              "       [-0.3868049 , -0.26186903],\n",
              "       [-0.38689687, -0.26189429]])"
            ]
          },
          "metadata": {},
          "execution_count": 10
        }
      ]
    },
    {
      "cell_type": "markdown",
      "source": [
        "# PLOTANDO GRÁFICO PARA COMPARAÇÃO"
      ],
      "metadata": {
        "id": "TrgpgII2QfsI"
      }
    },
    {
      "cell_type": "code",
      "source": [
        "with plt.style.context(('ggplot')):\n",
        "    fig, ax = plt.subplots(2, 1, figsize=(10, 10))\n",
        "    fig.suptitle('REDUÇÃO LINEAR COM PCA', fontsize=16)\n",
        "    plt.figtext(0.5, 0.5, 'REDUÇÃO NÃO LINEAR COM KERNEL PCA', ha='center', va='center', fontsize=16)\n",
        "    fig.tight_layout(pad=5.0)\n",
        " \n",
        "    #plt.figure(figsize=(8,6))\n",
        "    ax[0].scatter(Xpca[:,0], Xpca[:,1], s=100, edgecolors='k')   \n",
        "    ax[0].set_xlabel('PC 1')\n",
        "    ax[0].set_ylabel('PC 2')\n",
        "    ax[0].set_title('Scikit learn')\n",
        "    \n",
        "    ax[1].scatter(Xkpca[:,0], Xkpca[:,1], s=100, facecolor = 'b', edgecolors='k')   \n",
        "    ax[1].set_xlabel('PC 1')\n",
        "    ax[1].set_ylabel('PC 2')\n",
        "    ax[1].set_title('Scikit learn')\n",
        "        \n",
        "    plt.show()"
      ],
      "metadata": {
        "id": "ngIeFhY6P8lk",
        "outputId": "fef5fec5-6e51-45f4-b60a-f9eb5600e4ce",
        "colab": {
          "base_uri": "https://localhost:8080/",
          "height": 704
        }
      },
      "execution_count": null,
      "outputs": [
        {
          "output_type": "display_data",
          "data": {
            "image/png": "[encoded data removed]",
            "text/plain": [
              "<Figure size 720x720 with 2 Axes>"
            ]
          },
          "metadata": {}
        }
      ]
    },
    {
      "cell_type": "markdown",
      "source": [
        "# CONCLUSÃO\n",
        "É possível observar que a redução com o PCA e o Kernel PCA tiveram um resulta similiar."
      ],
      "metadata": {
        "id": "7AWbBZcPQqEw"
      }
    }
  ]
}